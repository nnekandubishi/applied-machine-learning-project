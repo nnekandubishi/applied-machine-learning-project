{
  "nbformat": 4,
  "nbformat_minor": 0,
  "metadata": {
    "colab": {
      "provenance": [],
      "collapsed_sections": [
        "tMuhdnSZprEm",
        "SfwqpHsWR7tP",
        "bLUwl1my-U2q",
        "TsMBEFDr-jHp",
        "OjfAmDJM-z3S",
        "0c44f_d6Sp9h",
        "JXEhI5Pr_Mya",
        "ggmv4g186sPu",
        "LGCJCyW27Tcz",
        "pC9ybiHG0E5F",
        "yTPHPcp58s8F",
        "XMR8LJHW9Xwj",
        "Bk6wCHxg1HP7",
        "SaIYY_JQOvzE",
        "kNaaFQ6PI3-K",
        "igrIJO2tx4rR",
        "S-PnY809synU",
        "y0B4aWNovPJK"
      ]
    },
    "kernelspec": {
      "name": "python3",
      "display_name": "Python 3"
    },
    "language_info": {
      "name": "python"
    }
  },
  "cells": [
    {
      "cell_type": "markdown",
      "source": [
        "# **1. Importing necessary libraries:**\n",
        "\n",
        "Uploading the CSV file into Google Colab and identifying the column sets.\n",
        "\n"
      ],
      "metadata": {
        "id": "tMuhdnSZprEm"
      }
    },
    {
      "cell_type": "code",
      "execution_count": null,
      "metadata": {
        "id": "c5rypjDxo4NA"
      },
      "outputs": [],
      "source": [
        "import numpy as np\n",
        "import matplotlib.pyplot as plt\n",
        "import pandas as pd\n",
        "import random\n"
      ]
    },
    {
      "cell_type": "code",
      "source": [
        "USING_COLAB = True\n",
        "if USING_COLAB:\n",
        "  from google.colab import drive\n",
        "  drive.mount('/content/drive')"
      ],
      "metadata": {
        "colab": {
          "base_uri": "https://localhost:8080/"
        },
        "id": "e_JeFmu7pF03",
        "outputId": "8607f67d-86de-4dc9-f691-42c052dce7da"
      },
      "execution_count": null,
      "outputs": [
        {
          "output_type": "stream",
          "name": "stdout",
          "text": [
            "Drive already mounted at /content/drive; to attempt to forcibly remount, call drive.mount(\"/content/drive\", force_remount=True).\n"
          ]
        }
      ]
    },
    {
      "cell_type": "code",
      "source": [
        "X_dataset = pd.read_csv('/content/drive/MyDrive/University of Greenwich/Applied Machine Learning/comp1804_coursework_dataset_23-24.csv')"
      ],
      "metadata": {
        "id": "eMEYJj2tpMwe"
      },
      "execution_count": null,
      "outputs": []
    },
    {
      "cell_type": "code",
      "source": [
        "print(\"Columns:\")\n",
        "for column in X_dataset.columns:\n",
        "    print(column)"
      ],
      "metadata": {
        "colab": {
          "base_uri": "https://localhost:8080/"
        },
        "id": "TaNIAnU2EuZS",
        "outputId": "155f8885-5003-44c4-af24-880097f5ae62"
      },
      "execution_count": null,
      "outputs": [
        {
          "output_type": "stream",
          "name": "stdout",
          "text": [
            "Columns:\n",
            "par_id\n",
            "paragraph\n",
            "has_entity\n",
            "lexicon_count\n",
            "difficult_words\n",
            "last_editor_gender\n",
            "category\n",
            "text_clarity\n"
          ]
        }
      ]
    },
    {
      "cell_type": "markdown",
      "source": [
        "# **2. Data exploration**\n",
        "\n",
        "In this section, I will be reformatting the columns in the CSV named 'X'. This includes: removing duplicated values, reformatting content, removing missing data."
      ],
      "metadata": {
        "id": "pAfjYCodT9uy"
      }
    },
    {
      "cell_type": "markdown",
      "source": [
        "## **1. Number of duplicated par_ids with the same paragraph content.**"
      ],
      "metadata": {
        "id": "jyuT2jDIQRma"
      }
    },
    {
      "cell_type": "markdown",
      "source": [
        "### **First, identifying how many duplicates are in the 'par_id' column:**"
      ],
      "metadata": {
        "id": "doX5jVLo95ta"
      }
    },
    {
      "cell_type": "code",
      "source": [
        "num_duplicates_par_id = X_dataset.duplicated(subset=['par_id']).sum()\n",
        "\n",
        "#  Print the total number of duplicates in the 'par_id' column\n",
        "print(f\"Total number of duplicates in 'par_id' column: {num_duplicates_par_id}\")"
      ],
      "metadata": {
        "colab": {
          "base_uri": "https://localhost:8080/"
        },
        "id": "2EaOQ378bEuj",
        "outputId": "b7fa4901-fbc8-4ccf-efde-bd361bfa4e87"
      },
      "execution_count": null,
      "outputs": [
        {
          "output_type": "stream",
          "name": "stdout",
          "text": [
            "Total number of duplicates in 'par_id' column: 215\n"
          ]
        }
      ]
    },
    {
      "cell_type": "markdown",
      "source": [
        "### **Dropping all duplicates in the 'par_id' column:**"
      ],
      "metadata": {
        "id": "H4ZQvdpW2i2u"
      }
    },
    {
      "cell_type": "code",
      "source": [
        "# Drop duplicates in the 'par_id' column\n",
        "X_dataset.drop_duplicates(subset=['par_id'], inplace=True)\n",
        "\n",
        "# Calculate the total number of duplicates in the 'par_id' column\n",
        "num_duplicates_par_id = X_dataset.duplicated(subset=['par_id']).sum()\n",
        "\n",
        "# Print the total number of duplicates in the 'par_id' column\n",
        "print(f\"Total number of duplicates in 'par_id' column after dropping duplicates: {num_duplicates_par_id}\")\n"
      ],
      "metadata": {
        "colab": {
          "base_uri": "https://localhost:8080/"
        },
        "id": "UArIbt6c2d4Q",
        "outputId": "2153ffd4-1df5-496f-86bb-2f9c85e0251f"
      },
      "execution_count": null,
      "outputs": [
        {
          "output_type": "stream",
          "name": "stdout",
          "text": [
            "Total number of duplicates in 'par_id' column after dropping duplicates: 0\n"
          ]
        }
      ]
    },
    {
      "cell_type": "markdown",
      "source": [
        "### **Checking to see if there any duplicated par_ids with the same paragraph content:**"
      ],
      "metadata": {
        "id": "xneSTbua3HyR"
      }
    },
    {
      "cell_type": "code",
      "source": [
        "duplicates_par_id = X_dataset[X_dataset.duplicated(subset=['par_id'], keep=False)]\n",
        "\n",
        "total_duplicates_with_same_paragraph = 0\n",
        "\n",
        "# Filter the duplicates with the same paragraph content\n",
        "for par_id, group in duplicates_par_id.groupby('par_id'):\n",
        "    if len(group['paragraph'].unique()) == 1:\n",
        "        total_duplicates_with_same_paragraph += 1\n",
        "\n",
        "# Print the total number of par_ids that are duplicated and have the same paragraph content\n",
        "print(f\"Total number of duplicated par_ids with the same paragraph content: {total_duplicates_with_same_paragraph}\")"
      ],
      "metadata": {
        "colab": {
          "base_uri": "https://localhost:8080/"
        },
        "id": "aK7wiHo5UL9Y",
        "outputId": "0e31f8b8-7c44-4131-af24-37c81f05eb06"
      },
      "execution_count": null,
      "outputs": [
        {
          "output_type": "stream",
          "name": "stdout",
          "text": [
            "Total number of duplicated par_ids with the same paragraph content: 0\n"
          ]
        }
      ]
    },
    {
      "cell_type": "markdown",
      "source": [
        "## **2. Duplicated paragraph content below.**"
      ],
      "metadata": {
        "id": "SfwqpHsWR7tP"
      }
    },
    {
      "cell_type": "markdown",
      "source": [
        "### **Identifying how many duplicates are still in the 'paragraph' column:**"
      ],
      "metadata": {
        "id": "bLUwl1my-U2q"
      }
    },
    {
      "cell_type": "code",
      "source": [
        "duplicates_paragraph = X_dataset[X_dataset.duplicated(subset=['paragraph'], keep=False)]\n",
        "\n",
        "print(f\"Total number of duplicates in 'paragraph': {len(duplicates_paragraph)}\")"
      ],
      "metadata": {
        "colab": {
          "base_uri": "https://localhost:8080/"
        },
        "id": "38QhH-IFfIfl",
        "outputId": "c322c768-a5d5-4a6d-b10a-969e21fb6dd1"
      },
      "execution_count": null,
      "outputs": [
        {
          "output_type": "stream",
          "name": "stdout",
          "text": [
            "Total number of duplicates in 'paragraph': 240\n"
          ]
        }
      ]
    },
    {
      "cell_type": "markdown",
      "source": [
        "### **Identifying how many of those duplicates are integers:**"
      ],
      "metadata": {
        "id": "TsMBEFDr-jHp"
      }
    },
    {
      "cell_type": "code",
      "source": [
        "count_minus_one = (X_dataset['paragraph'] == '-1').sum()\n",
        "print(\"Number of occurrences of '-1' in the 'paragraph' column:\", count_minus_one)\n"
      ],
      "metadata": {
        "colab": {
          "base_uri": "https://localhost:8080/"
        },
        "id": "bFev5AtJx6dO",
        "outputId": "78400b82-9d66-4bb8-f118-90925307ee4c"
      },
      "execution_count": null,
      "outputs": [
        {
          "output_type": "stream",
          "name": "stdout",
          "text": [
            "Number of occurrences of '-1' in the 'paragraph' column: 42\n"
          ]
        }
      ]
    },
    {
      "cell_type": "markdown",
      "source": [
        "### **Dropping all duplicates in the 'paragraph' column:**"
      ],
      "metadata": {
        "id": "OjfAmDJM-z3S"
      }
    },
    {
      "cell_type": "code",
      "source": [
        "# Drop duplicates based on the 'paragraph' column\n",
        "X_dataset.drop_duplicates(subset=['paragraph'], keep=False, inplace=True)\n",
        "\n",
        "# Count the total number of duplicates after dropping\n",
        "num_duplicates_after = X_dataset.duplicated(subset=['paragraph'], keep=False).sum()\n",
        "print(f\"Total number of duplicates in 'paragraph' after dropping: {num_duplicates_after}\")\n"
      ],
      "metadata": {
        "colab": {
          "base_uri": "https://localhost:8080/"
        },
        "id": "CPXUwdkG5KMV",
        "outputId": "dfcba575-5205-4745-a99c-258be615c7f8"
      },
      "execution_count": null,
      "outputs": [
        {
          "output_type": "stream",
          "name": "stdout",
          "text": [
            "Total number of duplicates in 'paragraph' after dropping: 0\n"
          ]
        }
      ]
    },
    {
      "cell_type": "markdown",
      "source": [
        "## **3. Identifying and removing 'data missing' values from has_entity column:**"
      ],
      "metadata": {
        "id": "0c44f_d6Sp9h"
      }
    },
    {
      "cell_type": "code",
      "source": [
        "X_dataset_missing_data = X_dataset[X_dataset['has_entity'] == 'data missing']\n",
        "\n",
        "# Count the number of rows with 'data missing' in the 'has_entity' column\n",
        "num_data_missing = len(X_dataset_missing_data)\n",
        "\n",
        "# Print the total number of rows with 'data missing' in the 'has_entity' column\n",
        "print(f\"Total number of 'data missing' values in 'has_entity': {num_data_missing}\")"
      ],
      "metadata": {
        "colab": {
          "base_uri": "https://localhost:8080/"
        },
        "id": "KGvL1fxFS9wx",
        "outputId": "9d5d15b1-9ed0-45f5-8b67-439a6fde3d97"
      },
      "execution_count": null,
      "outputs": [
        {
          "output_type": "stream",
          "name": "stdout",
          "text": [
            "Total number of 'data missing' values in 'has_entity': 24\n"
          ]
        }
      ]
    },
    {
      "cell_type": "markdown",
      "source": [
        "### **Removing the missing data from the 'has_entity' column:**"
      ],
      "metadata": {
        "id": "JXEhI5Pr_Mya"
      }
    },
    {
      "cell_type": "code",
      "source": [
        "X_dataset.drop(X_dataset[X_dataset['has_entity'] == 'data missing'].index, inplace=True)\n",
        "\n",
        "# Count the number of rows with 'data missing' in the 'has_entity' column after dropping\n",
        "num_data_missing_after = (X_dataset['has_entity'] == 'data missing').sum()\n",
        "print(f\"Total number of 'data missing' values in 'has_entity' after dropping: {num_data_missing_after}\")"
      ],
      "metadata": {
        "colab": {
          "base_uri": "https://localhost:8080/"
        },
        "id": "I_0bPc035oEc",
        "outputId": "ad5208ae-ac03-45ff-9424-1a6ae5d39f4f"
      },
      "execution_count": null,
      "outputs": [
        {
          "output_type": "stream",
          "name": "stdout",
          "text": [
            "Total number of 'data missing' values in 'has_entity' after dropping: 0\n"
          ]
        }
      ]
    },
    {
      "cell_type": "markdown",
      "source": [
        "## **4. Identifying and dropping rows with missing data in the 'difficult_words' column:**"
      ],
      "metadata": {
        "id": "ggmv4g186sPu"
      }
    },
    {
      "cell_type": "code",
      "source": [
        "# Count the number of missing values in the 'difficult_words' column\n",
        "num_missing_difficult_words = X_dataset['difficult_words'].isna().sum()\n",
        "\n",
        "# Print the total number of missing values in the 'difficult_words' column\n",
        "print(f\"Total number of missing values in 'difficult_words' column: {num_missing_difficult_words}\")\n"
      ],
      "metadata": {
        "colab": {
          "base_uri": "https://localhost:8080/"
        },
        "id": "wIn6kIZV63rF",
        "outputId": "5d40a349-364c-403c-a74e-e468cf8a8dd1"
      },
      "execution_count": null,
      "outputs": [
        {
          "output_type": "stream",
          "name": "stdout",
          "text": [
            "Total number of missing values in 'difficult_words' column: 18\n"
          ]
        }
      ]
    },
    {
      "cell_type": "markdown",
      "source": [
        "### **Removing the missing data rows from the 'difficult_words' column:**"
      ],
      "metadata": {
        "id": "LGCJCyW27Tcz"
      }
    },
    {
      "cell_type": "code",
      "source": [
        "# Remove rows with missing values only from the 'difficult_words' column\n",
        "X_dataset.dropna(subset=['difficult_words'], inplace=True)\n",
        "\n",
        "# Print the shape of the DataFrame after removing missing data from the 'difficult_words' column\n",
        "print(\"Shape of DataFrame after removing missing data from 'difficult_words' column:\", X_dataset.shape)\n"
      ],
      "metadata": {
        "colab": {
          "base_uri": "https://localhost:8080/"
        },
        "id": "vHIGBXB08XuD",
        "outputId": "df6dcfa7-a74b-4d2d-acf8-6e618bb6f97d"
      },
      "execution_count": null,
      "outputs": [
        {
          "output_type": "stream",
          "name": "stdout",
          "text": [
            "Shape of DataFrame after removing missing data from 'difficult_words' column: (8850, 8)\n"
          ]
        }
      ]
    },
    {
      "cell_type": "code",
      "source": [],
      "metadata": {
        "id": "Ux5wbZcwiw6S"
      },
      "execution_count": null,
      "outputs": []
    },
    {
      "cell_type": "markdown",
      "source": [
        "## **5. Identifying and reformating all inconsistencies in the 'Category' column.**"
      ],
      "metadata": {
        "id": "pC9ybiHG0E5F"
      }
    },
    {
      "cell_type": "markdown",
      "source": [
        "### Printing all values in the 'Category' column"
      ],
      "metadata": {
        "id": "yTPHPcp58s8F"
      }
    },
    {
      "cell_type": "code",
      "source": [
        "unique_categories = X_dataset['category'].unique()\n",
        "print(\"Unique items in the 'category' column:\")\n",
        "for category in unique_categories:\n",
        "    print(category)\n"
      ],
      "metadata": {
        "colab": {
          "base_uri": "https://localhost:8080/"
        },
        "id": "74xHejw20Kfi",
        "outputId": "f7fae4e3-2391-449a-a48b-8055670ffb18"
      },
      "execution_count": null,
      "outputs": [
        {
          "output_type": "stream",
          "name": "stdout",
          "text": [
            "Unique items in the 'category' column:\n",
            "biographies\n",
            "artificial intelligence\n",
            "programming\n",
            "philosophy\n",
            "movies about artificial intelligence\n",
            "Philosophy\n",
            "Programming\n",
            "Artificial intelligence\n",
            "Biographies\n",
            "Movies about artificial intelligence\n"
          ]
        }
      ]
    },
    {
      "cell_type": "markdown",
      "source": [
        "### Replacing all capitalised category names with their lower-cased version."
      ],
      "metadata": {
        "id": "XMR8LJHW9Xwj"
      }
    },
    {
      "cell_type": "code",
      "source": [
        "# Convert values in the 'category' column to lowercase\n",
        "X_dataset['category'] = X_dataset['category'].str.lower()\n",
        "\n",
        "# Print unique items in the 'category' column after conversion\n",
        "print(\"Unique items in the 'category' column after converting to lowercase:\")\n",
        "print(X_dataset['category'].unique())\n"
      ],
      "metadata": {
        "colab": {
          "base_uri": "https://localhost:8080/"
        },
        "id": "vHS_VwDv9Ffz",
        "outputId": "196c2629-74e2-4b73-9b43-6cbdb3e2ea3e"
      },
      "execution_count": null,
      "outputs": [
        {
          "output_type": "stream",
          "name": "stdout",
          "text": [
            "Unique items in the 'category' column after converting to lowercase:\n",
            "['biographies' 'artificial intelligence' 'programming' 'philosophy'\n",
            " 'movies about artificial intelligence']\n"
          ]
        }
      ]
    },
    {
      "cell_type": "markdown",
      "source": [
        "## **6. Checking for data imbalances and correcting it.**"
      ],
      "metadata": {
        "id": "t_mUnmTGVCVP"
      }
    },
    {
      "cell_type": "markdown",
      "source": [
        "### **Confirming that there is a data imbalance in the category column**"
      ],
      "metadata": {
        "id": "U5rrGKceMcCT"
      }
    },
    {
      "cell_type": "code",
      "source": [
        "category_distribution = X_dataset['category'].value_counts(normalize=True)\n",
        "\n",
        "print(\"Category Distribution:\")\n",
        "print(category_distribution)\n"
      ],
      "metadata": {
        "colab": {
          "base_uri": "https://localhost:8080/"
        },
        "id": "852SdGSWVPD8",
        "outputId": "ac95d80c-ca9d-4fa4-bb21-3cd09eb2f143"
      },
      "execution_count": null,
      "outputs": [
        {
          "output_type": "stream",
          "name": "stdout",
          "text": [
            "Category Distribution:\n",
            "biographies                             0.321808\n",
            "philosophy                              0.273446\n",
            "programming                             0.216723\n",
            "artificial intelligence                 0.169944\n",
            "movies about artificial intelligence    0.018079\n",
            "Name: category, dtype: float64\n"
          ]
        }
      ]
    },
    {
      "cell_type": "code",
      "source": [
        "import matplotlib.pyplot as plt\n",
        "\n",
        "# Plotting the bar chart\n",
        "plt.figure(figsize=(8, 6))\n",
        "category_distribution.plot(kind='bar')\n",
        "plt.title('Class Distribution')\n",
        "plt.xlabel('Category')\n",
        "plt.ylabel('Proportion')\n",
        "plt.xticks(rotation=45)\n",
        "plt.grid(axis='y', linestyle='--', alpha=0.7)\n",
        "plt.show()\n"
      ],
      "metadata": {
        "colab": {
          "base_uri": "https://localhost:8080/",
          "height": 730
        },
        "id": "6qNPARo6Vi5c",
        "outputId": "328e5068-ebc2-410d-f297-f095decf3f88"
      },
      "execution_count": null,
      "outputs": [
        {
          "output_type": "display_data",
          "data": {
            "text/plain": [
              "<Figure size 800x600 with 1 Axes>"
            ],
            "image/png": "[encoded data removed]"
          },
          "metadata": {}
        }
      ]
    },
    {
      "cell_type": "markdown",
      "source": [
        "### **Using an Oversampling technique to correct the Data Imbalance**"
      ],
      "metadata": {
        "id": "P74C7P0jLZt3"
      }
    },
    {
      "cell_type": "code",
      "source": [
        "pip install imbalanced-learn\n"
      ],
      "metadata": {
        "colab": {
          "base_uri": "https://localhost:8080/"
        },
        "id": "6Ye7DoGvWeu3",
        "outputId": "a1bde144-fefa-40c9-a2b1-178a5660d8b0"
      },
      "execution_count": null,
      "outputs": [
        {
          "output_type": "stream",
          "name": "stdout",
          "text": [
            "Requirement already satisfied: imbalanced-learn in /usr/local/lib/python3.10/dist-packages (0.10.1)\n",
            "Requirement already satisfied: numpy>=1.17.3 in /usr/local/lib/python3.10/dist-packages (from imbalanced-learn) (1.25.2)\n",
            "Requirement already satisfied: scipy>=1.3.2 in /usr/local/lib/python3.10/dist-packages (from imbalanced-learn) (1.11.4)\n",
            "Requirement already satisfied: scikit-learn>=1.0.2 in /usr/local/lib/python3.10/dist-packages (from imbalanced-learn) (1.2.2)\n",
            "Requirement already satisfied: joblib>=1.1.1 in /usr/local/lib/python3.10/dist-packages (from imbalanced-learn) (1.3.2)\n",
            "Requirement already satisfied: threadpoolctl>=2.0.0 in /usr/local/lib/python3.10/dist-packages (from imbalanced-learn) (3.3.0)\n"
          ]
        }
      ]
    },
    {
      "cell_type": "code",
      "source": [
        "from imblearn.over_sampling import RandomOverSampler\n",
        "\n",
        "# Initialize RandomOverSampler\n",
        "oversampler = RandomOverSampler()\n",
        "\n",
        "# Resample the input features and target labels\n",
        "X_resampled, y_resampled = oversampler.fit_resample(X_dataset, X_dataset['category'])\n",
        "\n",
        "# Print the class distribution after oversampling\n",
        "print(\"Class Distribution after Oversampling:\")\n",
        "print(pd.Series(y_resampled).value_counts(normalize=True))"
      ],
      "metadata": {
        "colab": {
          "base_uri": "https://localhost:8080/"
        },
        "id": "Amyi_hkVWimC",
        "outputId": "965e9121-4a90-450f-e498-3520000083a7"
      },
      "execution_count": null,
      "outputs": [
        {
          "output_type": "stream",
          "name": "stdout",
          "text": [
            "Class Distribution after Oversampling:\n",
            "biographies                             0.2\n",
            "artificial intelligence                 0.2\n",
            "programming                             0.2\n",
            "philosophy                              0.2\n",
            "movies about artificial intelligence    0.2\n",
            "Name: category, dtype: float64\n"
          ]
        }
      ]
    },
    {
      "cell_type": "code",
      "source": [
        "import matplotlib.pyplot as plt\n",
        "\n",
        "# Get the class distribution after oversampling\n",
        "class_distribution = pd.Series(y_resampled).value_counts(normalize=True)\n",
        "\n",
        "# Plotting the bar chart\n",
        "plt.figure(figsize=(10, 6))\n",
        "class_distribution.plot(kind='bar', color='skyblue')\n",
        "plt.title('Class Distribution after Oversampling')\n",
        "plt.xlabel('Category')\n",
        "plt.ylabel('Proportion')\n",
        "plt.xticks(rotation=45, ha='right')\n",
        "plt.tight_layout()\n",
        "plt.show()"
      ],
      "metadata": {
        "colab": {
          "base_uri": "https://localhost:8080/",
          "height": 607
        },
        "id": "9PceNEhga4zl",
        "outputId": "fab0a095-3981-46af-a226-8dee3e608959"
      },
      "execution_count": null,
      "outputs": [
        {
          "output_type": "display_data",
          "data": {
            "text/plain": [
              "<Figure size 1000x600 with 1 Axes>"
            ],
            "image/png": "[encoded data removed]"
          },
          "metadata": {}
        }
      ]
    },
    {
      "cell_type": "markdown",
      "source": [
        "# **3. Data splitting and cleaning**"
      ],
      "metadata": {
        "id": "Bk6wCHxg1HP7"
      }
    },
    {
      "cell_type": "markdown",
      "source": [
        "## **1. Data splitting and cleaning**"
      ],
      "metadata": {
        "id": "So4nQ9AjEc99"
      }
    },
    {
      "cell_type": "markdown",
      "source": [
        "### **The topic to predict is in the column titled “category”. The input features to use are: “paragraph” and “has_entity”.**\n"
      ],
      "metadata": {
        "id": "Ux_cHelUBgvV"
      }
    },
    {
      "cell_type": "code",
      "source": [
        "# Selecting specific columns for features and target\n",
        "X_features = X_dataset[['has_entity', 'paragraph']]\n",
        "Y_predict = X_dataset['category']"
      ],
      "metadata": {
        "id": "xm0GEIaEHQhX"
      },
      "execution_count": null,
      "outputs": []
    },
    {
      "cell_type": "markdown",
      "source": [
        "### **Separating the 'has_entity' column into the three entities:**\n"
      ],
      "metadata": {
        "id": "sNTae__q4XUk"
      }
    },
    {
      "cell_type": "code",
      "source": [
        "# Split the 'has_entity' column into separate columns based on the presence of each entity\n",
        "X_features[['ORG', 'PRODUCT', 'PERSON']] = X_features['has_entity'].str.extract(r'ORG_(YES|NO)_PRODUCT_(YES|NO)_PERSON_(YES|NO)_')\n",
        "\n",
        "# Map 'YES' to 1 and 'NO' to 0\n",
        "X_features.replace({'YES': 1, 'NO': 0}, inplace=True)\n",
        "\n",
        "\n",
        "X_features"
      ],
      "metadata": {
        "colab": {
          "base_uri": "https://localhost:8080/",
          "height": 823
        },
        "id": "aPjfBKcuwUMJ",
        "outputId": "0a253d6a-b88f-4b05-e3ee-aad065764e5e"
      },
      "execution_count": null,
      "outputs": [
        {
          "output_type": "stream",
          "name": "stderr",
          "text": [
            "<ipython-input-51-ee4e7a8edf39>:2: SettingWithCopyWarning: \n",
            "A value is trying to be set on a copy of a slice from a DataFrame.\n",
            "Try using .loc[row_indexer,col_indexer] = value instead\n",
            "\n",
            "See the caveats in the documentation: https://pandas.pydata.org/pandas-docs/stable/user_guide/indexing.html#returning-a-view-versus-a-copy\n",
            "  X_features[['ORG', 'PRODUCT', 'PERSON']] = X_features['has_entity'].str.extract(r'ORG_(YES|NO)_PRODUCT_(YES|NO)_PERSON_(YES|NO)_')\n",
            "<ipython-input-51-ee4e7a8edf39>:2: SettingWithCopyWarning: \n",
            "A value is trying to be set on a copy of a slice from a DataFrame.\n",
            "Try using .loc[row_indexer,col_indexer] = value instead\n",
            "\n",
            "See the caveats in the documentation: https://pandas.pydata.org/pandas-docs/stable/user_guide/indexing.html#returning-a-view-versus-a-copy\n",
            "  X_features[['ORG', 'PRODUCT', 'PERSON']] = X_features['has_entity'].str.extract(r'ORG_(YES|NO)_PRODUCT_(YES|NO)_PERSON_(YES|NO)_')\n",
            "<ipython-input-51-ee4e7a8edf39>:2: SettingWithCopyWarning: \n",
            "A value is trying to be set on a copy of a slice from a DataFrame.\n",
            "Try using .loc[row_indexer,col_indexer] = value instead\n",
            "\n",
            "See the caveats in the documentation: https://pandas.pydata.org/pandas-docs/stable/user_guide/indexing.html#returning-a-view-versus-a-copy\n",
            "  X_features[['ORG', 'PRODUCT', 'PERSON']] = X_features['has_entity'].str.extract(r'ORG_(YES|NO)_PRODUCT_(YES|NO)_PERSON_(YES|NO)_')\n",
            "<ipython-input-51-ee4e7a8edf39>:5: SettingWithCopyWarning: \n",
            "A value is trying to be set on a copy of a slice from a DataFrame\n",
            "\n",
            "See the caveats in the documentation: https://pandas.pydata.org/pandas-docs/stable/user_guide/indexing.html#returning-a-view-versus-a-copy\n",
            "  X_features.replace({'YES': 1, 'NO': 0}, inplace=True)\n"
          ]
        },
        {
          "output_type": "execute_result",
          "data": {
            "text/plain": [
              "                           has_entity  \\\n",
              "0      ORG_YES_PRODUCT_NO_PERSON_YES_   \n",
              "1       ORG_YES_PRODUCT_NO_PERSON_NO_   \n",
              "2       ORG_YES_PRODUCT_NO_PERSON_NO_   \n",
              "3       ORG_NO_PRODUCT_YES_PERSON_NO_   \n",
              "4     ORG_YES_PRODUCT_YES_PERSON_YES_   \n",
              "...                               ...   \n",
              "9342   ORG_YES_PRODUCT_NO_PERSON_YES_   \n",
              "9343   ORG_YES_PRODUCT_NO_PERSON_YES_   \n",
              "9344   ORG_YES_PRODUCT_NO_PERSON_YES_   \n",
              "9345    ORG_YES_PRODUCT_NO_PERSON_NO_   \n",
              "9346     ORG_NO_PRODUCT_NO_PERSON_NO_   \n",
              "\n",
              "                                              paragraph  ORG  PRODUCT  PERSON  \n",
              "0     Ramsay was born in Glasgow on 2 October 1852. ...    1        0       1  \n",
              "1     It has been widely estimated for at least the ...    1        0       0  \n",
              "2     He went on to win the Royal Medal of the Royal...    1        0       0  \n",
              "3     The changes have altered many underlying assum...    0        1       0  \n",
              "4     After these novels were published, Disraeli de...    1        1       1  \n",
              "...                                                 ...  ...      ...     ...  \n",
              "9342  Sir Joseph Dalton Hooker  was a British botani...    1        0       1  \n",
              "9343  As successful invasions of India generally cam...    1        0       1  \n",
              "9344  Hawking was born on 8 January 1942 in Oxford t...    1        0       1  \n",
              "9345  More complex tasks can be making custom data e...    1        0       0  \n",
              "9346  Governments, and especially the police and cou...    0        0       0  \n",
              "\n",
              "[8850 rows x 5 columns]"
            ],
            "text/html": [
              "\n",
              "  <div id=\"df-265552a2-ebf3-4fad-a652-9b734ac91453\" class=\"colab-df-container\">\n",
              "    <div>\n",
              "<style scoped>\n",
              "    .dataframe tbody tr th:only-of-type {\n",
              "        vertical-align: middle;\n",
              "    }\n",
              "\n",
              "    .dataframe tbody tr th {\n",
              "        vertical-align: top;\n",
              "    }\n",
              "\n",
              "    .dataframe thead th {\n",
              "        text-align: right;\n",
              "    }\n",
              "</style>\n",
              "<table border=\"1\" class=\"dataframe\">\n",
              "  <thead>\n",
              "    <tr style=\"text-align: right;\">\n",
              "      <th></th>\n",
              "      <th>has_entity</th>\n",
              "      <th>paragraph</th>\n",
              "      <th>ORG</th>\n",
              "      <th>PRODUCT</th>\n",
              "      <th>PERSON</th>\n",
              "    </tr>\n",
              "  </thead>\n",
              "  <tbody>\n",
              "    <tr>\n",
              "      <th>0</th>\n",
              "      <td>ORG_YES_PRODUCT_NO_PERSON_YES_</td>\n",
              "      <td>Ramsay was born in Glasgow on 2 October 1852. ...</td>\n",
              "      <td>1</td>\n",
              "      <td>0</td>\n",
              "      <td>1</td>\n",
              "    </tr>\n",
              "    <tr>\n",
              "      <th>1</th>\n",
              "      <td>ORG_YES_PRODUCT_NO_PERSON_NO_</td>\n",
              "      <td>It has been widely estimated for at least the ...</td>\n",
              "      <td>1</td>\n",
              "      <td>0</td>\n",
              "      <td>0</td>\n",
              "    </tr>\n",
              "    <tr>\n",
              "      <th>2</th>\n",
              "      <td>ORG_YES_PRODUCT_NO_PERSON_NO_</td>\n",
              "      <td>He went on to win the Royal Medal of the Royal...</td>\n",
              "      <td>1</td>\n",
              "      <td>0</td>\n",
              "      <td>0</td>\n",
              "    </tr>\n",
              "    <tr>\n",
              "      <th>3</th>\n",
              "      <td>ORG_NO_PRODUCT_YES_PERSON_NO_</td>\n",
              "      <td>The changes have altered many underlying assum...</td>\n",
              "      <td>0</td>\n",
              "      <td>1</td>\n",
              "      <td>0</td>\n",
              "    </tr>\n",
              "    <tr>\n",
              "      <th>4</th>\n",
              "      <td>ORG_YES_PRODUCT_YES_PERSON_YES_</td>\n",
              "      <td>After these novels were published, Disraeli de...</td>\n",
              "      <td>1</td>\n",
              "      <td>1</td>\n",
              "      <td>1</td>\n",
              "    </tr>\n",
              "    <tr>\n",
              "      <th>...</th>\n",
              "      <td>...</td>\n",
              "      <td>...</td>\n",
              "      <td>...</td>\n",
              "      <td>...</td>\n",
              "      <td>...</td>\n",
              "    </tr>\n",
              "    <tr>\n",
              "      <th>9342</th>\n",
              "      <td>ORG_YES_PRODUCT_NO_PERSON_YES_</td>\n",
              "      <td>Sir Joseph Dalton Hooker  was a British botani...</td>\n",
              "      <td>1</td>\n",
              "      <td>0</td>\n",
              "      <td>1</td>\n",
              "    </tr>\n",
              "    <tr>\n",
              "      <th>9343</th>\n",
              "      <td>ORG_YES_PRODUCT_NO_PERSON_YES_</td>\n",
              "      <td>As successful invasions of India generally cam...</td>\n",
              "      <td>1</td>\n",
              "      <td>0</td>\n",
              "      <td>1</td>\n",
              "    </tr>\n",
              "    <tr>\n",
              "      <th>9344</th>\n",
              "      <td>ORG_YES_PRODUCT_NO_PERSON_YES_</td>\n",
              "      <td>Hawking was born on 8 January 1942 in Oxford t...</td>\n",
              "      <td>1</td>\n",
              "      <td>0</td>\n",
              "      <td>1</td>\n",
              "    </tr>\n",
              "    <tr>\n",
              "      <th>9345</th>\n",
              "      <td>ORG_YES_PRODUCT_NO_PERSON_NO_</td>\n",
              "      <td>More complex tasks can be making custom data e...</td>\n",
              "      <td>1</td>\n",
              "      <td>0</td>\n",
              "      <td>0</td>\n",
              "    </tr>\n",
              "    <tr>\n",
              "      <th>9346</th>\n",
              "      <td>ORG_NO_PRODUCT_NO_PERSON_NO_</td>\n",
              "      <td>Governments, and especially the police and cou...</td>\n",
              "      <td>0</td>\n",
              "      <td>0</td>\n",
              "      <td>0</td>\n",
              "    </tr>\n",
              "  </tbody>\n",
              "</table>\n",
              "<p>8850 rows × 5 columns</p>\n",
              "</div>\n",
              "    <div class=\"colab-df-buttons\">\n",
              "\n",
              "  <div class=\"colab-df-container\">\n",
              "    <button class=\"colab-df-convert\" onclick=\"convertToInteractive('df-265552a2-ebf3-4fad-a652-9b734ac91453')\"\n",
              "            title=\"Convert this dataframe to an interactive table.\"\n",
              "            style=\"display:none;\">\n",
              "\n",
              "  <svg xmlns=\"http://www.w3.org/2000/svg\" height=\"24px\" viewBox=\"0 -960 960 960\">\n",
              "    <path d=\"M120-120v-720h720v720H120Zm60-500h600v-160H180v160Zm220 220h160v-160H400v160Zm0 220h160v-160H400v160ZM180-400h160v-160H180v160Zm440 0h160v-160H620v160ZM180-180h160v-160H180v160Zm440 0h160v-160H620v160Z\"/>\n",
              "  </svg>\n",
              "    </button>\n",
              "\n",
              "  <style>\n",
              "    .colab-df-container {\n",
              "      display:flex;\n",
              "      gap: 12px;\n",
              "    }\n",
              "\n",
              "    .colab-df-convert {\n",
              "      background-color: #E8F0FE;\n",
              "      border: none;\n",
              "      border-radius: 50%;\n",
              "      cursor: pointer;\n",
              "      display: none;\n",
              "      fill: #1967D2;\n",
              "      height: 32px;\n",
              "      padding: 0 0 0 0;\n",
              "      width: 32px;\n",
              "    }\n",
              "\n",
              "    .colab-df-convert:hover {\n",
              "      background-color: #E2EBFA;\n",
              "      box-shadow: 0px 1px 2px rgba(60, 64, 67, 0.3), 0px 1px 3px 1px rgba(60, 64, 67, 0.15);\n",
              "      fill: #174EA6;\n",
              "    }\n",
              "\n",
              "    .colab-df-buttons div {\n",
              "      margin-bottom: 4px;\n",
              "    }\n",
              "\n",
              "    [theme=dark] .colab-df-convert {\n",
              "      background-color: #3B4455;\n",
              "      fill: #D2E3FC;\n",
              "    }\n",
              "\n",
              "    [theme=dark] .colab-df-convert:hover {\n",
              "      background-color: #434B5C;\n",
              "      box-shadow: 0px 1px 3px 1px rgba(0, 0, 0, 0.15);\n",
              "      filter: drop-shadow(0px 1px 2px rgba(0, 0, 0, 0.3));\n",
              "      fill: #FFFFFF;\n",
              "    }\n",
              "  </style>\n",
              "\n",
              "    <script>\n",
              "      const buttonEl =\n",
              "        document.querySelector('#df-265552a2-ebf3-4fad-a652-9b734ac91453 button.colab-df-convert');\n",
              "      buttonEl.style.display =\n",
              "        google.colab.kernel.accessAllowed ? 'block' : 'none';\n",
              "\n",
              "      async function convertToInteractive(key) {\n",
              "        const element = document.querySelector('#df-265552a2-ebf3-4fad-a652-9b734ac91453');\n",
              "        const dataTable =\n",
              "          await google.colab.kernel.invokeFunction('convertToInteractive',\n",
              "                                                    [key], {});\n",
              "        if (!dataTable) return;\n",
              "\n",
              "        const docLinkHtml = 'Like what you see? Visit the ' +\n",
              "          '<a target=\"_blank\" href=https://colab.research.google.com/notebooks/data_table.ipynb>data table notebook</a>'\n",
              "          + ' to learn more about interactive tables.';\n",
              "        element.innerHTML = '';\n",
              "        dataTable['output_type'] = 'display_data';\n",
              "        await google.colab.output.renderOutput(dataTable, element);\n",
              "        const docLink = document.createElement('div');\n",
              "        docLink.innerHTML = docLinkHtml;\n",
              "        element.appendChild(docLink);\n",
              "      }\n",
              "    </script>\n",
              "  </div>\n",
              "\n",
              "\n",
              "<div id=\"df-897b4d19-03f9-4c6d-ba9d-202faaf8d756\">\n",
              "  <button class=\"colab-df-quickchart\" onclick=\"quickchart('df-897b4d19-03f9-4c6d-ba9d-202faaf8d756')\"\n",
              "            title=\"Suggest charts\"\n",
              "            style=\"display:none;\">\n",
              "\n",
              "<svg xmlns=\"http://www.w3.org/2000/svg\" height=\"24px\"viewBox=\"0 0 24 24\"\n",
              "     width=\"24px\">\n",
              "    <g>\n",
              "        <path d=\"M19 3H5c-1.1 0-2 .9-2 2v14c0 1.1.9 2 2 2h14c1.1 0 2-.9 2-2V5c0-1.1-.9-2-2-2zM9 17H7v-7h2v7zm4 0h-2V7h2v10zm4 0h-2v-4h2v4z\"/>\n",
              "    </g>\n",
              "</svg>\n",
              "  </button>\n",
              "\n",
              "<style>\n",
              "  .colab-df-quickchart {\n",
              "      --bg-color: #E8F0FE;\n",
              "      --fill-color: #1967D2;\n",
              "      --hover-bg-color: #E2EBFA;\n",
              "      --hover-fill-color: #174EA6;\n",
              "      --disabled-fill-color: #AAA;\n",
              "      --disabled-bg-color: #DDD;\n",
              "  }\n",
              "\n",
              "  [theme=dark] .colab-df-quickchart {\n",
              "      --bg-color: #3B4455;\n",
              "      --fill-color: #D2E3FC;\n",
              "      --hover-bg-color: #434B5C;\n",
              "      --hover-fill-color: #FFFFFF;\n",
              "      --disabled-bg-color: #3B4455;\n",
              "      --disabled-fill-color: #666;\n",
              "  }\n",
              "\n",
              "  .colab-df-quickchart {\n",
              "    background-color: var(--bg-color);\n",
              "    border: none;\n",
              "    border-radius: 50%;\n",
              "    cursor: pointer;\n",
              "    display: none;\n",
              "    fill: var(--fill-color);\n",
              "    height: 32px;\n",
              "    padding: 0;\n",
              "    width: 32px;\n",
              "  }\n",
              "\n",
              "  .colab-df-quickchart:hover {\n",
              "    background-color: var(--hover-bg-color);\n",
              "    box-shadow: 0 1px 2px rgba(60, 64, 67, 0.3), 0 1px 3px 1px rgba(60, 64, 67, 0.15);\n",
              "    fill: var(--button-hover-fill-color);\n",
              "  }\n",
              "\n",
              "  .colab-df-quickchart-complete:disabled,\n",
              "  .colab-df-quickchart-complete:disabled:hover {\n",
              "    background-color: var(--disabled-bg-color);\n",
              "    fill: var(--disabled-fill-color);\n",
              "    box-shadow: none;\n",
              "  }\n",
              "\n",
              "  .colab-df-spinner {\n",
              "    border: 2px solid var(--fill-color);\n",
              "    border-color: transparent;\n",
              "    border-bottom-color: var(--fill-color);\n",
              "    animation:\n",
              "      spin 1s steps(1) infinite;\n",
              "  }\n",
              "\n",
              "  @keyframes spin {\n",
              "    0% {\n",
              "      border-color: transparent;\n",
              "      border-bottom-color: var(--fill-color);\n",
              "      border-left-color: var(--fill-color);\n",
              "    }\n",
              "    20% {\n",
              "      border-color: transparent;\n",
              "      border-left-color: var(--fill-color);\n",
              "      border-top-color: var(--fill-color);\n",
              "    }\n",
              "    30% {\n",
              "      border-color: transparent;\n",
              "      border-left-color: var(--fill-color);\n",
              "      border-top-color: var(--fill-color);\n",
              "      border-right-color: var(--fill-color);\n",
              "    }\n",
              "    40% {\n",
              "      border-color: transparent;\n",
              "      border-right-color: var(--fill-color);\n",
              "      border-top-color: var(--fill-color);\n",
              "    }\n",
              "    60% {\n",
              "      border-color: transparent;\n",
              "      border-right-color: var(--fill-color);\n",
              "    }\n",
              "    80% {\n",
              "      border-color: transparent;\n",
              "      border-right-color: var(--fill-color);\n",
              "      border-bottom-color: var(--fill-color);\n",
              "    }\n",
              "    90% {\n",
              "      border-color: transparent;\n",
              "      border-bottom-color: var(--fill-color);\n",
              "    }\n",
              "  }\n",
              "</style>\n",
              "\n",
              "  <script>\n",
              "    async function quickchart(key) {\n",
              "      const quickchartButtonEl =\n",
              "        document.querySelector('#' + key + ' button');\n",
              "      quickchartButtonEl.disabled = true;  // To prevent multiple clicks.\n",
              "      quickchartButtonEl.classList.add('colab-df-spinner');\n",
              "      try {\n",
              "        const charts = await google.colab.kernel.invokeFunction(\n",
              "            'suggestCharts', [key], {});\n",
              "      } catch (error) {\n",
              "        console.error('Error during call to suggestCharts:', error);\n",
              "      }\n",
              "      quickchartButtonEl.classList.remove('colab-df-spinner');\n",
              "      quickchartButtonEl.classList.add('colab-df-quickchart-complete');\n",
              "    }\n",
              "    (() => {\n",
              "      let quickchartButtonEl =\n",
              "        document.querySelector('#df-897b4d19-03f9-4c6d-ba9d-202faaf8d756 button');\n",
              "      quickchartButtonEl.style.display =\n",
              "        google.colab.kernel.accessAllowed ? 'block' : 'none';\n",
              "    })();\n",
              "  </script>\n",
              "</div>\n",
              "    </div>\n",
              "  </div>\n"
            ],
            "application/vnd.google.colaboratory.intrinsic+json": {
              "type": "dataframe",
              "variable_name": "X_features",
              "summary": "{\n  \"name\": \"X_features\",\n  \"rows\": 8850,\n  \"fields\": [\n    {\n      \"column\": \"has_entity\",\n      \"properties\": {\n        \"dtype\": \"category\",\n        \"num_unique_values\": 8,\n        \"samples\": [\n          \"ORG_YES_PRODUCT_NO_PERSON_NO_\",\n          \"ORG_NO_PRODUCT_YES_PERSON_YES_\",\n          \"ORG_YES_PRODUCT_NO_PERSON_YES_\"\n        ],\n        \"semantic_type\": \"\",\n        \"description\": \"\"\n      }\n    },\n    {\n      \"column\": \"paragraph\",\n      \"properties\": {\n        \"dtype\": \"string\",\n        \"num_unique_values\": 8850,\n        \"samples\": [\n          \"In 1900, he became a politician in the Conservative Party, and was elected to Parliament. In 1904, he changed parties and joined the Liberal Party, but later returned to the Conservative Party.\",\n          \"C is an imperative procedural language, supporting structured programming, lexical variable scope, and recursion, with a static type system. It was designed to be compiled to provide low-level access to memory and language constructs that map efficiently to machine instructions, all with minimal runtime support. Despite its low-level capabilities, the language was designed to encourage cross-platform programming. A standards-compliant C program written with portability in mind can be compiled for a wide variety of computer platforms and operating systems with few changes to its source code.Since 2000, C has consistently ranked among the top two languages in the TIOBE index, a measure of the popularity of programming languages.\",\n          \"James Lovelock was born in Letchworth Garden City to Tom Arthur Lovelock and his second wife Nellie. Nell, his mother, was born in Bermondsey and won a scholarship to a grammar school but was unable to take it up, and started work at thirteen in a pickle factory. She was described by Lovelock as a socialist and suffragist, who was also anti-vaccine, and did not allow Lovelock to receive his smallpox inoculation as a child.\"\n        ],\n        \"semantic_type\": \"\",\n        \"description\": \"\"\n      }\n    },\n    {\n      \"column\": \"ORG\",\n      \"properties\": {\n        \"dtype\": \"number\",\n        \"std\": 0,\n        \"min\": 0,\n        \"max\": 1,\n        \"num_unique_values\": 2,\n        \"samples\": [\n          0,\n          1\n        ],\n        \"semantic_type\": \"\",\n        \"description\": \"\"\n      }\n    },\n    {\n      \"column\": \"PRODUCT\",\n      \"properties\": {\n        \"dtype\": \"number\",\n        \"std\": 0,\n        \"min\": 0,\n        \"max\": 1,\n        \"num_unique_values\": 2,\n        \"samples\": [\n          1,\n          0\n        ],\n        \"semantic_type\": \"\",\n        \"description\": \"\"\n      }\n    },\n    {\n      \"column\": \"PERSON\",\n      \"properties\": {\n        \"dtype\": \"number\",\n        \"std\": 0,\n        \"min\": 0,\n        \"max\": 1,\n        \"num_unique_values\": 2,\n        \"samples\": [\n          0,\n          1\n        ],\n        \"semantic_type\": \"\",\n        \"description\": \"\"\n      }\n    }\n  ]\n}"
            }
          },
          "metadata": {},
          "execution_count": 51
        }
      ]
    },
    {
      "cell_type": "code",
      "source": [
        "print(\"\\nShape of X_features:\", X_features.shape)\n",
        "print(\"Shape of Y_predict:\", Y_predict.shape)"
      ],
      "metadata": {
        "colab": {
          "base_uri": "https://localhost:8080/"
        },
        "id": "2Iph5sHDHSku",
        "outputId": "c7223093-6922-4fff-8b2e-bc338d42cd78"
      },
      "execution_count": null,
      "outputs": [
        {
          "output_type": "stream",
          "name": "stdout",
          "text": [
            "\n",
            "Shape of X_features: (8850, 5)\n",
            "Shape of Y_predict: (8850,)\n"
          ]
        }
      ]
    },
    {
      "cell_type": "markdown",
      "source": [
        "### **Removing any duplicates and splitting both the input features and the labels into a training set and a test set.**"
      ],
      "metadata": {
        "id": "V4jBwng4BNil"
      }
    },
    {
      "cell_type": "code",
      "source": [
        "duplicates_rows = X_dataset.duplicated()\n",
        "# The result is True for rows that are a duplicate, False for rows that are not a duplicate\n",
        "\n",
        "print(f'There are {duplicates_rows.sum()} duplicates rows.')\n",
        "\n",
        "# We have no duplicates here,\n",
        "# but if we had them, to remove them we'd only keep the rows that are NOT duplicates\n",
        "X = X_features[~duplicates_rows]\n",
        "Y = Y_predict[~duplicates_rows]"
      ],
      "metadata": {
        "colab": {
          "base_uri": "https://localhost:8080/"
        },
        "id": "LyFmIAhcCszF",
        "outputId": "d8d36217-aef1-49cc-a4a8-a5b9aae3b6cd"
      },
      "execution_count": null,
      "outputs": [
        {
          "output_type": "stream",
          "name": "stdout",
          "text": [
            "There are 0 duplicates rows.\n"
          ]
        }
      ]
    },
    {
      "cell_type": "code",
      "source": [
        "from sklearn.model_selection import train_test_split\n",
        "from imblearn.over_sampling import RandomOverSampler\n",
        "\n",
        "# Initialize RandomOverSampler\n",
        "oversampler = RandomOverSampler()\n",
        "\n",
        "# Resample the training features and target labels\n",
        "X_train_resampled, y_train_resampled = oversampler.fit_resample(X_features, Y_predict)\n",
        "\n",
        "# Split resampled data into training and testing sets\n",
        "train_dataset, test_dataset, train_labels, test_labels = train_test_split(X_train_resampled, y_train_resampled, test_size=0.2, stratify=y_train_resampled, shuffle=True)"
      ],
      "metadata": {
        "id": "Pldy_hfUbEcz"
      },
      "execution_count": null,
      "outputs": []
    },
    {
      "cell_type": "markdown",
      "source": [
        "## **2. Data quality assessment and Exploratory Data Analysis**\n",
        "\n",
        "There can be many data quality issues, including invalid/inconsistent features or data points, unnecessary features, missing values, and more.\n",
        "\n",
        "First, let's inspect the dataset a bit."
      ],
      "metadata": {
        "id": "In7HN-FUC8s7"
      }
    },
    {
      "cell_type": "markdown",
      "source": [
        "### **Checking for missing values within datasets after the data split**"
      ],
      "metadata": {
        "id": "6IgXOwHYOM-D"
      }
    },
    {
      "cell_type": "code",
      "source": [
        "# Check for missing values in the training data (features)\n",
        "missing_values_train_data = train_dataset.isnull().sum()\n",
        "print(\"Missing Values in Training Data:\")\n",
        "print(missing_values_train_data)\n",
        "\n",
        "# Check for missing values in the training labels\n",
        "missing_values_train_labels = train_labels.isnull().sum()\n",
        "print(\"\\nMissing Values in Training Labels:\")\n",
        "print(missing_values_train_labels)\n"
      ],
      "metadata": {
        "id": "4ZwttkCCY3IB",
        "outputId": "c6eebc0d-6e5a-463b-a566-9017eb1bdb9d",
        "colab": {
          "base_uri": "https://localhost:8080/"
        }
      },
      "execution_count": null,
      "outputs": [
        {
          "output_type": "stream",
          "name": "stdout",
          "text": [
            "Missing Values in Training Data:\n",
            "has_entity    0\n",
            "paragraph     0\n",
            "ORG           0\n",
            "PRODUCT       0\n",
            "PERSON        0\n",
            "dtype: int64\n",
            "\n",
            "Missing Values in Training Labels:\n",
            "0\n"
          ]
        }
      ]
    },
    {
      "cell_type": "markdown",
      "source": [
        "### **Dimensions of Dataset and feature names**"
      ],
      "metadata": {
        "id": "178IbhGbLWzO"
      }
    },
    {
      "cell_type": "code",
      "source": [
        "# Training data\n",
        "# shape of input:\n",
        "# The number or rows is the number of data points\n",
        "# The number or columns is the number of features\n",
        "print(train_dataset.shape)\n",
        "# shape of output:\n",
        "# The number or rows is the number of data points (should be the same as before!)\n",
        "# The number or columns is the number of labels we want to predict\n",
        "print(train_labels.shape)"
      ],
      "metadata": {
        "colab": {
          "base_uri": "https://localhost:8080/"
        },
        "id": "mcdboOWvDH9D",
        "outputId": "355c1eb7-0553-445b-80c6-0e9fd499e035"
      },
      "execution_count": null,
      "outputs": [
        {
          "output_type": "stream",
          "name": "stdout",
          "text": [
            "(11392, 5)\n",
            "(11392,)\n"
          ]
        }
      ]
    },
    {
      "cell_type": "code",
      "source": [
        "# Test data\n",
        "# shape of input:\n",
        "# The number or rows is the number of data points\n",
        "# The number or columns is the number of features (should be the same as for the training!)\n",
        "print(test_dataset.shape)\n",
        "# shape of output:\n",
        "# The number or rows is the number of data points (should be the same as before!)\n",
        "# The number or columns is the number of labels we want to predict\n",
        "print(test_labels.shape)"
      ],
      "metadata": {
        "colab": {
          "base_uri": "https://localhost:8080/"
        },
        "id": "9K43G1goDMlz",
        "outputId": "ff79d438-2af9-4ac0-8c82-18fd2a3ada42"
      },
      "execution_count": null,
      "outputs": [
        {
          "output_type": "stream",
          "name": "stdout",
          "text": [
            "(2848, 5)\n",
            "(2848,)\n"
          ]
        }
      ]
    },
    {
      "cell_type": "code",
      "source": [
        "# list of column titles\n",
        "print(train_dataset.columns)\n",
        "print(train_labels.name)"
      ],
      "metadata": {
        "colab": {
          "base_uri": "https://localhost:8080/"
        },
        "id": "5kpXv-0LDR47",
        "outputId": "21a7f350-79a6-4c66-f355-631d74a15d61"
      },
      "execution_count": null,
      "outputs": [
        {
          "output_type": "stream",
          "name": "stdout",
          "text": [
            "Index(['has_entity', 'paragraph', 'ORG', 'PRODUCT', 'PERSON'], dtype='object')\n",
            "category\n"
          ]
        }
      ]
    },
    {
      "cell_type": "code",
      "source": [
        "# list of column (field) data types. doing this on the test datasets will give the same results\n",
        "print(train_dataset.dtypes)\n",
        "print(train_labels.dtypes)"
      ],
      "metadata": {
        "colab": {
          "base_uri": "https://localhost:8080/"
        },
        "id": "iqoChiWDDb3M",
        "outputId": "ef52da13-de9c-4f97-ca91-f7862b0b3196"
      },
      "execution_count": null,
      "outputs": [
        {
          "output_type": "stream",
          "name": "stdout",
          "text": [
            "has_entity    object\n",
            "paragraph     object\n",
            "ORG            int64\n",
            "PRODUCT        int64\n",
            "PERSON         int64\n",
            "dtype: object\n",
            "object\n"
          ]
        }
      ]
    },
    {
      "cell_type": "code",
      "source": [
        "print(train_labels.index)\n",
        "print(train_labels.values)\n"
      ],
      "metadata": {
        "colab": {
          "base_uri": "https://localhost:8080/"
        },
        "id": "VSsLXPStMFFh",
        "outputId": "8b6dcf5b-06f8-4aeb-814f-2fb0b475593c"
      },
      "execution_count": null,
      "outputs": [
        {
          "output_type": "stream",
          "name": "stdout",
          "text": [
            "Int64Index([ 5263,  2834,  4407,  9978,  4665,  8207,  4601, 11582,  7008,\n",
            "             3276,\n",
            "            ...\n",
            "             6792,  5225, 10608,  4904,  4056,  3475,  1956,  9913,  1724,\n",
            "            12664],\n",
            "           dtype='int64', length=11392)\n",
            "['philosophy' 'biographies' 'biographies' ... 'artificial intelligence'\n",
            " 'programming' 'movies about artificial intelligence']\n"
          ]
        }
      ]
    },
    {
      "cell_type": "markdown",
      "source": [
        "### **Example of randomised dataset:**"
      ],
      "metadata": {
        "id": "PxoeOpi0PI1r"
      }
    },
    {
      "cell_type": "code",
      "source": [
        "# you can also show a random subset of the data with the function \"sample\".\n",
        "# Sometimes it's better to show a sample, so that you get a more varied view of the data\n",
        "train_dataset.sample(10)"
      ],
      "metadata": {
        "colab": {
          "base_uri": "https://localhost:8080/",
          "height": 363
        },
        "id": "uKR_Wk3CPXty",
        "outputId": "7a61f815-fb2c-4c27-84d7-cba3987926b9"
      },
      "execution_count": null,
      "outputs": [
        {
          "output_type": "execute_result",
          "data": {
            "text/plain": [
              "                            has_entity  \\\n",
              "4255    ORG_YES_PRODUCT_NO_PERSON_YES_   \n",
              "12234   ORG_YES_PRODUCT_NO_PERSON_YES_   \n",
              "10884    ORG_NO_PRODUCT_NO_PERSON_YES_   \n",
              "4174     ORG_YES_PRODUCT_NO_PERSON_NO_   \n",
              "10598  ORG_YES_PRODUCT_YES_PERSON_YES_   \n",
              "8798     ORG_NO_PRODUCT_NO_PERSON_YES_   \n",
              "295     ORG_YES_PRODUCT_YES_PERSON_NO_   \n",
              "5780    ORG_YES_PRODUCT_NO_PERSON_YES_   \n",
              "117       ORG_NO_PRODUCT_NO_PERSON_NO_   \n",
              "7770      ORG_NO_PRODUCT_NO_PERSON_NO_   \n",
              "\n",
              "                                               paragraph  ORG  PRODUCT  PERSON  \n",
              "4255   Francis Leggatt Chantrey carved a white marble...    1        0       1  \n",
              "12234  In early 1994, the film was in pre-production ...    1        0       1  \n",
              "10884  M3GAN grossed $95 million in the United States...    0        0       1  \n",
              "4174   Micro-Soft, by this time Microsoft, ported the...    1        0       0  \n",
              "10598  After Celia blames Gemma for Dewey's disappear...    1        1       1  \n",
              "8798   In his Meditations on First Philosophy, Rene D...    0        0       1  \n",
              "295    Whereas Apple events are a way to send message...    1        1       0  \n",
              "5780   Sir Frederick Grant Banting  was a Canadian me...    1        0       1  \n",
              "117    While operations like extend are reversed, how...    0        0       0  \n",
              "7770   commands tell the program to look for somethin...    0        0       0  "
            ],
            "text/html": [
              "\n",
              "  <div id=\"df-7cdeb74b-1679-4dc6-9ae7-8a4334ae44f2\" class=\"colab-df-container\">\n",
              "    <div>\n",
              "<style scoped>\n",
              "    .dataframe tbody tr th:only-of-type {\n",
              "        vertical-align: middle;\n",
              "    }\n",
              "\n",
              "    .dataframe tbody tr th {\n",
              "        vertical-align: top;\n",
              "    }\n",
              "\n",
              "    .dataframe thead th {\n",
              "        text-align: right;\n",
              "    }\n",
              "</style>\n",
              "<table border=\"1\" class=\"dataframe\">\n",
              "  <thead>\n",
              "    <tr style=\"text-align: right;\">\n",
              "      <th></th>\n",
              "      <th>has_entity</th>\n",
              "      <th>paragraph</th>\n",
              "      <th>ORG</th>\n",
              "      <th>PRODUCT</th>\n",
              "      <th>PERSON</th>\n",
              "    </tr>\n",
              "  </thead>\n",
              "  <tbody>\n",
              "    <tr>\n",
              "      <th>4255</th>\n",
              "      <td>ORG_YES_PRODUCT_NO_PERSON_YES_</td>\n",
              "      <td>Francis Leggatt Chantrey carved a white marble...</td>\n",
              "      <td>1</td>\n",
              "      <td>0</td>\n",
              "      <td>1</td>\n",
              "    </tr>\n",
              "    <tr>\n",
              "      <th>12234</th>\n",
              "      <td>ORG_YES_PRODUCT_NO_PERSON_YES_</td>\n",
              "      <td>In early 1994, the film was in pre-production ...</td>\n",
              "      <td>1</td>\n",
              "      <td>0</td>\n",
              "      <td>1</td>\n",
              "    </tr>\n",
              "    <tr>\n",
              "      <th>10884</th>\n",
              "      <td>ORG_NO_PRODUCT_NO_PERSON_YES_</td>\n",
              "      <td>M3GAN grossed $95 million in the United States...</td>\n",
              "      <td>0</td>\n",
              "      <td>0</td>\n",
              "      <td>1</td>\n",
              "    </tr>\n",
              "    <tr>\n",
              "      <th>4174</th>\n",
              "      <td>ORG_YES_PRODUCT_NO_PERSON_NO_</td>\n",
              "      <td>Micro-Soft, by this time Microsoft, ported the...</td>\n",
              "      <td>1</td>\n",
              "      <td>0</td>\n",
              "      <td>0</td>\n",
              "    </tr>\n",
              "    <tr>\n",
              "      <th>10598</th>\n",
              "      <td>ORG_YES_PRODUCT_YES_PERSON_YES_</td>\n",
              "      <td>After Celia blames Gemma for Dewey's disappear...</td>\n",
              "      <td>1</td>\n",
              "      <td>1</td>\n",
              "      <td>1</td>\n",
              "    </tr>\n",
              "    <tr>\n",
              "      <th>8798</th>\n",
              "      <td>ORG_NO_PRODUCT_NO_PERSON_YES_</td>\n",
              "      <td>In his Meditations on First Philosophy, Rene D...</td>\n",
              "      <td>0</td>\n",
              "      <td>0</td>\n",
              "      <td>1</td>\n",
              "    </tr>\n",
              "    <tr>\n",
              "      <th>295</th>\n",
              "      <td>ORG_YES_PRODUCT_YES_PERSON_NO_</td>\n",
              "      <td>Whereas Apple events are a way to send message...</td>\n",
              "      <td>1</td>\n",
              "      <td>1</td>\n",
              "      <td>0</td>\n",
              "    </tr>\n",
              "    <tr>\n",
              "      <th>5780</th>\n",
              "      <td>ORG_YES_PRODUCT_NO_PERSON_YES_</td>\n",
              "      <td>Sir Frederick Grant Banting  was a Canadian me...</td>\n",
              "      <td>1</td>\n",
              "      <td>0</td>\n",
              "      <td>1</td>\n",
              "    </tr>\n",
              "    <tr>\n",
              "      <th>117</th>\n",
              "      <td>ORG_NO_PRODUCT_NO_PERSON_NO_</td>\n",
              "      <td>While operations like extend are reversed, how...</td>\n",
              "      <td>0</td>\n",
              "      <td>0</td>\n",
              "      <td>0</td>\n",
              "    </tr>\n",
              "    <tr>\n",
              "      <th>7770</th>\n",
              "      <td>ORG_NO_PRODUCT_NO_PERSON_NO_</td>\n",
              "      <td>commands tell the program to look for somethin...</td>\n",
              "      <td>0</td>\n",
              "      <td>0</td>\n",
              "      <td>0</td>\n",
              "    </tr>\n",
              "  </tbody>\n",
              "</table>\n",
              "</div>\n",
              "    <div class=\"colab-df-buttons\">\n",
              "\n",
              "  <div class=\"colab-df-container\">\n",
              "    <button class=\"colab-df-convert\" onclick=\"convertToInteractive('df-7cdeb74b-1679-4dc6-9ae7-8a4334ae44f2')\"\n",
              "            title=\"Convert this dataframe to an interactive table.\"\n",
              "            style=\"display:none;\">\n",
              "\n",
              "  <svg xmlns=\"http://www.w3.org/2000/svg\" height=\"24px\" viewBox=\"0 -960 960 960\">\n",
              "    <path d=\"M120-120v-720h720v720H120Zm60-500h600v-160H180v160Zm220 220h160v-160H400v160Zm0 220h160v-160H400v160ZM180-400h160v-160H180v160Zm440 0h160v-160H620v160ZM180-180h160v-160H180v160Zm440 0h160v-160H620v160Z\"/>\n",
              "  </svg>\n",
              "    </button>\n",
              "\n",
              "  <style>\n",
              "    .colab-df-container {\n",
              "      display:flex;\n",
              "      gap: 12px;\n",
              "    }\n",
              "\n",
              "    .colab-df-convert {\n",
              "      background-color: #E8F0FE;\n",
              "      border: none;\n",
              "      border-radius: 50%;\n",
              "      cursor: pointer;\n",
              "      display: none;\n",
              "      fill: #1967D2;\n",
              "      height: 32px;\n",
              "      padding: 0 0 0 0;\n",
              "      width: 32px;\n",
              "    }\n",
              "\n",
              "    .colab-df-convert:hover {\n",
              "      background-color: #E2EBFA;\n",
              "      box-shadow: 0px 1px 2px rgba(60, 64, 67, 0.3), 0px 1px 3px 1px rgba(60, 64, 67, 0.15);\n",
              "      fill: #174EA6;\n",
              "    }\n",
              "\n",
              "    .colab-df-buttons div {\n",
              "      margin-bottom: 4px;\n",
              "    }\n",
              "\n",
              "    [theme=dark] .colab-df-convert {\n",
              "      background-color: #3B4455;\n",
              "      fill: #D2E3FC;\n",
              "    }\n",
              "\n",
              "    [theme=dark] .colab-df-convert:hover {\n",
              "      background-color: #434B5C;\n",
              "      box-shadow: 0px 1px 3px 1px rgba(0, 0, 0, 0.15);\n",
              "      filter: drop-shadow(0px 1px 2px rgba(0, 0, 0, 0.3));\n",
              "      fill: #FFFFFF;\n",
              "    }\n",
              "  </style>\n",
              "\n",
              "    <script>\n",
              "      const buttonEl =\n",
              "        document.querySelector('#df-7cdeb74b-1679-4dc6-9ae7-8a4334ae44f2 button.colab-df-convert');\n",
              "      buttonEl.style.display =\n",
              "        google.colab.kernel.accessAllowed ? 'block' : 'none';\n",
              "\n",
              "      async function convertToInteractive(key) {\n",
              "        const element = document.querySelector('#df-7cdeb74b-1679-4dc6-9ae7-8a4334ae44f2');\n",
              "        const dataTable =\n",
              "          await google.colab.kernel.invokeFunction('convertToInteractive',\n",
              "                                                    [key], {});\n",
              "        if (!dataTable) return;\n",
              "\n",
              "        const docLinkHtml = 'Like what you see? Visit the ' +\n",
              "          '<a target=\"_blank\" href=https://colab.research.google.com/notebooks/data_table.ipynb>data table notebook</a>'\n",
              "          + ' to learn more about interactive tables.';\n",
              "        element.innerHTML = '';\n",
              "        dataTable['output_type'] = 'display_data';\n",
              "        await google.colab.output.renderOutput(dataTable, element);\n",
              "        const docLink = document.createElement('div');\n",
              "        docLink.innerHTML = docLinkHtml;\n",
              "        element.appendChild(docLink);\n",
              "      }\n",
              "    </script>\n",
              "  </div>\n",
              "\n",
              "\n",
              "<div id=\"df-e0e139e4-7fe9-4332-b63d-5c0bf9621dc2\">\n",
              "  <button class=\"colab-df-quickchart\" onclick=\"quickchart('df-e0e139e4-7fe9-4332-b63d-5c0bf9621dc2')\"\n",
              "            title=\"Suggest charts\"\n",
              "            style=\"display:none;\">\n",
              "\n",
              "<svg xmlns=\"http://www.w3.org/2000/svg\" height=\"24px\"viewBox=\"0 0 24 24\"\n",
              "     width=\"24px\">\n",
              "    <g>\n",
              "        <path d=\"M19 3H5c-1.1 0-2 .9-2 2v14c0 1.1.9 2 2 2h14c1.1 0 2-.9 2-2V5c0-1.1-.9-2-2-2zM9 17H7v-7h2v7zm4 0h-2V7h2v10zm4 0h-2v-4h2v4z\"/>\n",
              "    </g>\n",
              "</svg>\n",
              "  </button>\n",
              "\n",
              "<style>\n",
              "  .colab-df-quickchart {\n",
              "      --bg-color: #E8F0FE;\n",
              "      --fill-color: #1967D2;\n",
              "      --hover-bg-color: #E2EBFA;\n",
              "      --hover-fill-color: #174EA6;\n",
              "      --disabled-fill-color: #AAA;\n",
              "      --disabled-bg-color: #DDD;\n",
              "  }\n",
              "\n",
              "  [theme=dark] .colab-df-quickchart {\n",
              "      --bg-color: #3B4455;\n",
              "      --fill-color: #D2E3FC;\n",
              "      --hover-bg-color: #434B5C;\n",
              "      --hover-fill-color: #FFFFFF;\n",
              "      --disabled-bg-color: #3B4455;\n",
              "      --disabled-fill-color: #666;\n",
              "  }\n",
              "\n",
              "  .colab-df-quickchart {\n",
              "    background-color: var(--bg-color);\n",
              "    border: none;\n",
              "    border-radius: 50%;\n",
              "    cursor: pointer;\n",
              "    display: none;\n",
              "    fill: var(--fill-color);\n",
              "    height: 32px;\n",
              "    padding: 0;\n",
              "    width: 32px;\n",
              "  }\n",
              "\n",
              "  .colab-df-quickchart:hover {\n",
              "    background-color: var(--hover-bg-color);\n",
              "    box-shadow: 0 1px 2px rgba(60, 64, 67, 0.3), 0 1px 3px 1px rgba(60, 64, 67, 0.15);\n",
              "    fill: var(--button-hover-fill-color);\n",
              "  }\n",
              "\n",
              "  .colab-df-quickchart-complete:disabled,\n",
              "  .colab-df-quickchart-complete:disabled:hover {\n",
              "    background-color: var(--disabled-bg-color);\n",
              "    fill: var(--disabled-fill-color);\n",
              "    box-shadow: none;\n",
              "  }\n",
              "\n",
              "  .colab-df-spinner {\n",
              "    border: 2px solid var(--fill-color);\n",
              "    border-color: transparent;\n",
              "    border-bottom-color: var(--fill-color);\n",
              "    animation:\n",
              "      spin 1s steps(1) infinite;\n",
              "  }\n",
              "\n",
              "  @keyframes spin {\n",
              "    0% {\n",
              "      border-color: transparent;\n",
              "      border-bottom-color: var(--fill-color);\n",
              "      border-left-color: var(--fill-color);\n",
              "    }\n",
              "    20% {\n",
              "      border-color: transparent;\n",
              "      border-left-color: var(--fill-color);\n",
              "      border-top-color: var(--fill-color);\n",
              "    }\n",
              "    30% {\n",
              "      border-color: transparent;\n",
              "      border-left-color: var(--fill-color);\n",
              "      border-top-color: var(--fill-color);\n",
              "      border-right-color: var(--fill-color);\n",
              "    }\n",
              "    40% {\n",
              "      border-color: transparent;\n",
              "      border-right-color: var(--fill-color);\n",
              "      border-top-color: var(--fill-color);\n",
              "    }\n",
              "    60% {\n",
              "      border-color: transparent;\n",
              "      border-right-color: var(--fill-color);\n",
              "    }\n",
              "    80% {\n",
              "      border-color: transparent;\n",
              "      border-right-color: var(--fill-color);\n",
              "      border-bottom-color: var(--fill-color);\n",
              "    }\n",
              "    90% {\n",
              "      border-color: transparent;\n",
              "      border-bottom-color: var(--fill-color);\n",
              "    }\n",
              "  }\n",
              "</style>\n",
              "\n",
              "  <script>\n",
              "    async function quickchart(key) {\n",
              "      const quickchartButtonEl =\n",
              "        document.querySelector('#' + key + ' button');\n",
              "      quickchartButtonEl.disabled = true;  // To prevent multiple clicks.\n",
              "      quickchartButtonEl.classList.add('colab-df-spinner');\n",
              "      try {\n",
              "        const charts = await google.colab.kernel.invokeFunction(\n",
              "            'suggestCharts', [key], {});\n",
              "      } catch (error) {\n",
              "        console.error('Error during call to suggestCharts:', error);\n",
              "      }\n",
              "      quickchartButtonEl.classList.remove('colab-df-spinner');\n",
              "      quickchartButtonEl.classList.add('colab-df-quickchart-complete');\n",
              "    }\n",
              "    (() => {\n",
              "      let quickchartButtonEl =\n",
              "        document.querySelector('#df-e0e139e4-7fe9-4332-b63d-5c0bf9621dc2 button');\n",
              "      quickchartButtonEl.style.display =\n",
              "        google.colab.kernel.accessAllowed ? 'block' : 'none';\n",
              "    })();\n",
              "  </script>\n",
              "</div>\n",
              "    </div>\n",
              "  </div>\n"
            ],
            "application/vnd.google.colaboratory.intrinsic+json": {
              "type": "dataframe",
              "summary": "{\n  \"name\": \"train_dataset\",\n  \"rows\": 10,\n  \"fields\": [\n    {\n      \"column\": \"has_entity\",\n      \"properties\": {\n        \"dtype\": \"string\",\n        \"num_unique_values\": 6,\n        \"samples\": [\n          \"ORG_YES_PRODUCT_NO_PERSON_YES_\",\n          \"ORG_NO_PRODUCT_NO_PERSON_YES_\",\n          \"ORG_NO_PRODUCT_NO_PERSON_NO_\"\n        ],\n        \"semantic_type\": \"\",\n        \"description\": \"\"\n      }\n    },\n    {\n      \"column\": \"paragraph\",\n      \"properties\": {\n        \"dtype\": \"string\",\n        \"num_unique_values\": 10,\n        \"samples\": [\n          \"While operations like extend are reversed, however, a comonad does not reverse functions it acts on, and consequently, comonads are still functors with map, not cofunctors.\",\n          \"In early 1994, the film was in pre-production with Christopher \\\"Fangorn\\\" Baker as concept artist, and Sara Maitland assisting on the story, which gave it \\\"a feminist fairy-tale focus\\\". Maitland said that Kubrick never referred to the film as A.I., but as Pinocchio. Chris Cunningham became the new visual effects supervisor. Some of his unproduced work for A.I. can be seen on the DVD, The Work of Director Chris Cunningham. Aside from considering computer animation, Kubrick also had Joseph Mazzello do a screen test for the lead role. Cunningham helped assemble a series of \\\"little robot-type humans\\\" for the David character. \\\"We tried to construct a little boy with a movable rubber face to see whether we could make it look appealing,\\\" producer Jan Harlan reflected. \\\"But it was a total failure, it looked awful.\\\" Hans Moravec was brought in as a technical consultant. Meanwhile, Kubrick and Harlan thought A.I.\",\n          \"In his Meditations on First Philosophy, Rene Descartes embarked upon a quest in which he called all his previous beliefs into doubt, in order to find out what he could be certain of. In so doing, he discovered that he could doubt whether he had a body , but he could not doubt whether he had a mind. This gave Descartes his first inkling that the mind and body were different things. The mind, according to Descartes, was a \\\"thinking thing\\\" , and an immaterial substance. This \\\"thing\\\" was the essence of himself, that which doubts, believes, hopes, and thinks. The body, \\\"the thing that exists\\\" , regulates normal bodily functions . According to Descartes, animals only had a body and not a soul . The distinction between mind and body is argued in Meditation VI as follows: I have a clear and distinct idea of myself as a thinking, non-extended thing, and a clear and distinct idea of body as an extended and non-thinking thing. Whatever I can conceive clearly and distinctly, God can so create.\"\n        ],\n        \"semantic_type\": \"\",\n        \"description\": \"\"\n      }\n    },\n    {\n      \"column\": \"ORG\",\n      \"properties\": {\n        \"dtype\": \"number\",\n        \"std\": 0,\n        \"min\": 0,\n        \"max\": 1,\n        \"num_unique_values\": 2,\n        \"samples\": [\n          0,\n          1\n        ],\n        \"semantic_type\": \"\",\n        \"description\": \"\"\n      }\n    },\n    {\n      \"column\": \"PRODUCT\",\n      \"properties\": {\n        \"dtype\": \"number\",\n        \"std\": 0,\n        \"min\": 0,\n        \"max\": 1,\n        \"num_unique_values\": 2,\n        \"samples\": [\n          1,\n          0\n        ],\n        \"semantic_type\": \"\",\n        \"description\": \"\"\n      }\n    },\n    {\n      \"column\": \"PERSON\",\n      \"properties\": {\n        \"dtype\": \"number\",\n        \"std\": 0,\n        \"min\": 0,\n        \"max\": 1,\n        \"num_unique_values\": 2,\n        \"samples\": [\n          0,\n          1\n        ],\n        \"semantic_type\": \"\",\n        \"description\": \"\"\n      }\n    }\n  ]\n}"
            }
          },
          "metadata": {},
          "execution_count": 64
        }
      ]
    },
    {
      "cell_type": "code",
      "source": [
        "print(train_labels.head(10))\n"
      ],
      "metadata": {
        "colab": {
          "base_uri": "https://localhost:8080/"
        },
        "id": "FKrwVcVaQoc3",
        "outputId": "8c49c86c-e34b-4c6c-bf4c-d5eeb9956e05"
      },
      "execution_count": null,
      "outputs": [
        {
          "output_type": "stream",
          "name": "stdout",
          "text": [
            "5263                               philosophy\n",
            "2834                              biographies\n",
            "4407                              biographies\n",
            "9978                  artificial intelligence\n",
            "4665                               philosophy\n",
            "8207                               philosophy\n",
            "4601                              programming\n",
            "11582    movies about artificial intelligence\n",
            "7008                  artificial intelligence\n",
            "3276                              programming\n",
            "Name: category, dtype: object\n"
          ]
        }
      ]
    },
    {
      "cell_type": "markdown",
      "source": [
        "### **Categorical features:**\n"
      ],
      "metadata": {
        "id": "TFjDrXk6UclE"
      }
    },
    {
      "cell_type": "code",
      "source": [
        "# let's list all categorical features\n",
        "categorical_columns = ['has_entity', 'paragraph']\n",
        "\n",
        "# let's get the categories and their count for each feature\n",
        "for col in categorical_columns:\n",
        "    print(f\"Categories and number of occurrences for '{col}'\")\n",
        "    print(train_dataset[col].value_counts())\n",
        "    print()\n"
      ],
      "metadata": {
        "colab": {
          "base_uri": "https://localhost:8080/"
        },
        "id": "LLiXG4vAVtf6",
        "outputId": "0b052b1b-8d49-4fee-b66a-b69c09403eba"
      },
      "execution_count": null,
      "outputs": [
        {
          "output_type": "stream",
          "name": "stdout",
          "text": [
            "Categories and number of occurrences for 'has_entity'\n",
            "ORG_YES_PRODUCT_NO_PERSON_YES_     4009\n",
            "ORG_NO_PRODUCT_NO_PERSON_NO_       3179\n",
            "ORG_YES_PRODUCT_NO_PERSON_NO_      1756\n",
            "ORG_NO_PRODUCT_NO_PERSON_YES_      1473\n",
            "ORG_YES_PRODUCT_YES_PERSON_YES_     676\n",
            "ORG_YES_PRODUCT_YES_PERSON_NO_      169\n",
            "ORG_NO_PRODUCT_YES_PERSON_YES_       88\n",
            "ORG_NO_PRODUCT_YES_PERSON_NO_        42\n",
            "Name: has_entity, dtype: int64\n",
            "\n",
            "Categories and number of occurrences for 'paragraph'\n",
            "In September 2019, Marvel Studios and Sony Pictures announced that they were set to produce a third film, after an impasse between the two companies during negotiations. Watts returned to direct, from a script by McKenna and Sommers. Holland, Zendaya, Favreau, Tomei, Batalon, and Revolori reprise their roles, while Benedict Cumberbatch and Benedict Wong reprise their MCU roles as Doctor Strange and Wong. Spider-Man: No Way Home features several actors reprising their roles from past Spider-Man films, including Tobey Maguire and Andrew Garfield as their versions of Spider-Man from Sam Raimi's Spider-Man trilogy  and Marc Webb's The Amazing Spider-Man films , nicknamed \"Peter-Two\" and \"Peter-Three\" respectively, alongside Willem Dafoe as Norman Osborn / Green Goblin, Alfred Molina as Otto Octavius / Doctor Octopus, and Thomas Haden Church as Flint Marko / Sandman from the Raimi trilogy, as well as Rhys Ifans as Curt Connors / Lizard and Jamie Foxx as Max Dillon / Electro from the Webb films. The film was released on December 17, 2021.                                                                                                                                                                                                                                                                                                                                                                                                                                                                                                                                                                                                                                                                                                                                                                                                                                                                                                                                             24\n",
            "WarGames has a cult following amongst computer users and fans of the 1980s. The movie led to the development of the term war dialing .                                                                                                                                                                                                                                                                                                                                                                                                                                                                                                                                                                                                                                                                                                                                                                                                                                                                                                                                                                                                                                                                                                                                                                                                                                                                                                                                                                                                                                                                                                                                                                                                                                                                                                                                                                                                                                                                                               22\n",
            "WarGames was nominated for three Academy Awards: Best Cinematography , Sound , and Writing, Screenplay Written Directly for the Screen . The company that provided the large screens used to display the tactical situations seen in the NORAD set employed a new design that was super-bright enabling the displays to be filmed live.  The animations seen on the NORAD displays, produced by Colin Cantwell, were created using Hewlett Packard HP 9845C computers driving monochrome HP 1345A vector displays, which were still-filmed through successive color-filters. Each frame took approximately one minute to produce, and 50,000 feet of negatives were produced over seven months. The animations were projected \"live\" onto the screens from behind using 16-mm film, so they were visible to the actors and no post-production work was needed.                                                                                                                                                                                                                                                                                                                                                                                                                                                                                                                                                                                                                                                                                                                                                                                                                                                                                                                                                                                                                                                                                                                                                                       21\n",
            "On review aggregator website Rotten Tomatoes, the film has an approval rating of 93% based on 315 reviews and an average rating of 7.2/10. The website's critical consensus reads: \"Unapologetically silly and all the more entertaining for it, M3GAN is the rare horror-comedy that delivers chuckles as effortlessly as chills\". On Metacritic, the film has a weighted average score of 72 out of 100 based on 54 critics, indicating \"generally favorable reviews\". Audiences polled by CinemaScore gave the film an average grade of \"B\" on an A+ to F scale, while those polled at PostTrak gave it 3.5 out of 5 stars.                                                                                                                                                                                                                                                                                                                                                                                                                                                                                                                                                                                                                                                                                                                                                                                                                                                                                                                                                                                                                                                                                                                                                                                                                                                                                                                                                                                                       21\n",
            "Parker and his classmates travel to Venice, Italy, where the Water Elemental attacks. Parker helps protect his classmates, while Beck arrives and defeats the creature. Fury meets with Parker and gives him Stark's glasses, which were meant for his successor. The glasses enable him to communicate with and take command of the artificial intelligence E.D.I.T.H., which has access to Stark Industries' databases and commands a large orbital weapons supply. Beck claims to have entered from an alternate reality within the Multiverse, where the four Elementals killed his family and destroyed his civilization. With only the Fire Elemental left to destroy, Beck predicts it will attack Prague. Parker declines Fury's invitation to join the fight and returns to his class trip.                                                                                                                                                                                                                                                                                                                                                                                                                                                                                                                                                                                                                                                                                                                                                                                                                                                                                                                                                                                                                                                                                                                                                                                                                                 20\n",
            "                                                                                                                                                                                                                                                                                                                                                                                                                                                                                                                                                                                                                                                                                                                                                                                                                                                                                                                                                                                                                                                                                                                                                                                                                                                                                                                                                                                                                                                                                                                                                                                                                                                                                                                                                                                                                                                                                                                                                                                                                                     ..\n",
            "The Tirukkural remained largely unknown outside India for over a millennium. As was the practice across the ancient Indian subcontinent, in addition to palm-leaf manuscripts, the Kural literature had been passed on as word of mouth from parents to their children and from preceptors to their students for generations within the Tamil-speaking regions of South India. According to Sanjeevi, the first translation of the work appeared in Malayalam  in 1595.The first paper print of the Tirukkural is traceable to 1812, credited to the efforts of Nanapirakacar who used wooden blocks embossed from palm-leaf scripts to produce copies of the Tirukkural along with those of Nalatiyar. It was only in 1835 that Indians were permitted to establish printing press. The Kural was the first book to be published in Tamil, followed by the Naladiyar. It is said that when Francis Whyte Ellis, a British civil servant in the Madras Presidency and a scholar of Tamil and Sanskrit who had established a Tamil sangam  in Madras in 1825, asked Tamil enthusiasts to \"bring to him ancient Tamil manuscripts for publication,\" Kandappan, the butler of George Harrington, a European civil servant possibly in the Madurai district, and the grandfather of Iyothee Thass, handed in handwritten palm-leaf manuscripts of the Kural text as well as the Tiruvalluva Maalai and the Naladiyar, which he found between 1825 and 1831 in a pile of leaves used for cooking. The books were finally printed in 1831 by Ellis with the help of his manager Muthusamy Pillai and Tamil scholar Tandavaraya Mudaliar. Subsequent editions of the Tirukkural appeared in 1833, 1838, 1840, and 1842. Soon many commentaries followed, including those by Mahalinga Iyer, who published only the first 24 chapters. The Kural has been continuously in print ever since. By 1925, the Kural literature had already appeared in more than 65 editions and by the turn of the 21st century, it had crossed 500 editions.     1\n",
            "How are such needs satisfied? Doyal and Gough point to twelve broad categories of \"intermediate needs\" that define how the needs for physical health and personal autonomy are fulfilled:                                                                                                                                                                                                                                                                                                                                                                                                                                                                                                                                                                                                                                                                                                                                                                                                                                                                                                                                                                                                                                                                                                                                                                                                                                                                                                                                                                                                                                                                                                                                                                                                                                                                                                                                                                                                                                             1\n",
            "In 1946 Astbury presented a paper at a symposium in Cambridge in which he said: \"Biosynthesis is supremely a question of fitting molecules or parts of molecules against another, and one of the great biological developments of our time is the realisation that probably the most fundamental interaction of all is that between the proteins and the nucleic acids.\" He also said that the spacing between the nucleotides and the spacing of amino acids in proteins \"was not an arithmetical accident\".                                                                                                                                                                                                                                                                                                                                                                                                                                                                                                                                                                                                                                                                                                                                                                                                                                                                                                                                                                                                                                                                                                                                                                                                                                                                                                                                                                                                                                                                                                                         1\n",
            "As a result of confusion over the meaning of factoid, some English-language style and usage guides discourage its use. William Safire in his \"On Language\" column advocated the use of the word factlet instead of factoid to express a brief interesting fact as well as a \"little bit of arcana\" but did not explain how adopting this new term would alleviate the ongoing confusion over the existing contradictory common use meanings of factoid.Safire suggested that factlet be used to designate a small or trivial bit of information that is nonetheless true or accurate. A report in The Guardian identified Safire as the writer who coined the term factlet, although Safire's 1993 column suggested factlet was already in use at that time. The Atlantic magazine agreed with Safire and recommended factlet to signify a \"small probably unimportant but interesting fact\", as factoid still connoted a spurious fact. The term factlet has been used in publications such as Mother Jones, the San Jose Mercury News, and in the Reno Gazette Journal.                                                                                                                                                                                                                                                                                                                                                                                                                                                                                                                                                                                                                                                                                                                                                                                                                                                                                                                                                             1\n",
            "Computer programmers make mistakes when writing codes. The mistakes are called bugs and cause the program to follow the wrong instructions. Debugging is the process of finding and fixing the mistakes. To debug code is to find such mistakes.                                                                                                                                                                                                                                                                                                                                                                                                                                                                                                                                                                                                                                                                                                                                                                                                                                                                                                                                                                                                                                                                                                                                                                                                                                                                                                                                                                                                                                                                                                                                                                                                                                                                                                                                                                                      1\n",
            "Name: paragraph, Length: 7449, dtype: int64\n",
            "\n"
          ]
        }
      ]
    },
    {
      "cell_type": "markdown",
      "source": [
        "# **4. Data Encoding**"
      ],
      "metadata": {
        "id": "dUTTix_B9gtp"
      }
    },
    {
      "cell_type": "markdown",
      "source": [
        "### **Dropping 'has_entity' column from training set as the three entity columns exist**"
      ],
      "metadata": {
        "id": "SaIYY_JQOvzE"
      }
    },
    {
      "cell_type": "code",
      "source": [
        "train_dataset.drop(columns=['has_entity'], inplace=True)\n",
        "\n",
        "print(train_dataset.head())"
      ],
      "metadata": {
        "colab": {
          "base_uri": "https://localhost:8080/"
        },
        "id": "zmJQOR4MOwhX",
        "outputId": "42e724e2-5bdc-4963-94df-493cfc09eaf1"
      },
      "execution_count": null,
      "outputs": [
        {
          "output_type": "stream",
          "name": "stdout",
          "text": [
            "                                              paragraph  ORG  PRODUCT  PERSON\n",
            "5263  In sociology and anthropology, time discipline...    0        0       1\n",
            "2834  During the development of Darwin's theory, his...    1        0       1\n",
            "4407  His poems included much natural history, inclu...    0        0       0\n",
            "9978  The term machine learning was coined in 1959 b...    1        0       1\n",
            "4665   More generally, it is argued that since it is...    0        0       0\n"
          ]
        }
      ]
    },
    {
      "cell_type": "markdown",
      "source": [
        "### **Text encoding the target data by tokenising, lowercasing, stopword and punctuation removal and lemmatisation.**"
      ],
      "metadata": {
        "id": "kNaaFQ6PI3-K"
      }
    },
    {
      "cell_type": "code",
      "source": [
        "import re\n",
        "import nltk\n",
        "from nltk.corpus import stopwords\n",
        "from nltk.stem import WordNetLemmatizer\n",
        "from nltk.tokenize import word_tokenize\n",
        "\n",
        "# Download NLTK resources\n",
        "nltk.download('punkt')\n",
        "nltk.download('stopwords')\n",
        "nltk.download('wordnet')\n",
        "\n",
        "# Initialize the WordNet Lemmatizer\n",
        "lemmatizer = WordNetLemmatizer()\n",
        "\n",
        "# Function to preprocess a paragraph\n",
        "def preprocess_paragraph(paragraph):\n",
        "    # Tokenize the paragraph\n",
        "    tokens = word_tokenize(paragraph)\n",
        "    # Lowercasing and removing non-alphanumeric characters\n",
        "    tokens = [re.sub(r'[^a-zA-Z]', '', token.lower()) for token in tokens]\n",
        "    # Remove stopwords\n",
        "    stop_words = set(stopwords.words('english'))\n",
        "    tokens = [token for token in tokens if token not in stop_words]\n",
        "    # Lemmatization\n",
        "    lemmatized_tokens = [lemmatizer.lemmatize(token) for token in tokens]\n",
        "    # Join tokens into a single string\n",
        "    preprocessed_paragraph = ' '.join(lemmatized_tokens)\n",
        "    return preprocessed_paragraph\n",
        "\n",
        "# Preprocess each paragraph in batches of 100\n",
        "preprocessed_paragraphs = []\n",
        "batch_size = 100\n",
        "num_batches = len(train_dataset) // batch_size + 1\n",
        "for i in range(num_batches):\n",
        "    batch_paragraphs = train_dataset['paragraph'][i * batch_size : (i + 1) * batch_size]\n",
        "    preprocessed_batch = [preprocess_paragraph(paragraph) for paragraph in batch_paragraphs]\n",
        "    preprocessed_paragraphs.extend(preprocessed_batch)\n",
        "\n",
        "# Print the preprocessed paragraphs\n",
        "for idx, preprocessed_paragraph in enumerate(preprocessed_paragraphs[:5]):\n",
        "    print(f\"{idx}: {preprocessed_paragraph}\")"
      ],
      "metadata": {
        "colab": {
          "base_uri": "https://localhost:8080/"
        },
        "id": "zrvzb1ApdB2p",
        "outputId": "e7bee714-bee9-40d5-f281-ad3b74b524c5"
      },
      "execution_count": null,
      "outputs": [
        {
          "output_type": "stream",
          "name": "stderr",
          "text": [
            "[nltk_data] Downloading package punkt to /root/nltk_data...\n",
            "[nltk_data]   Unzipping tokenizers/punkt.zip.\n",
            "[nltk_data] Downloading package stopwords to /root/nltk_data...\n",
            "[nltk_data]   Unzipping corpora/stopwords.zip.\n",
            "[nltk_data] Downloading package wordnet to /root/nltk_data...\n"
          ]
        },
        {
          "output_type": "stream",
          "name": "stdout",
          "text": [
            "0: sociology anthropology  time discipline general name given social economic rule  convention  custom  expectation governing measurement time  social currency awareness time measurement  people expectation concerning observance custom others  arlie russell hochschild norbert elia written use time sociological perspective \n",
            "1: development darwin theory  investigation barnacle showed    segmentation related crustacean  showing diverged relative  darwin owen  homology  comparative anatomy evidence descent  owen demonstrated fossil evidence evolutionary sequence horse  supporting idea development archetype  ordained continuous becoming     gave british association talk impossibility bestial ape  recently discovered gorilla  standing erect transmuted men  owen rule possibility human evolved extinct animal evolutionary mechanism transmutation \n",
            "2: poem included much natural history  including statement evolution relatedness form life \n",
            "3: term machine learning coined  arthur samuel  ibm employee pioneer field computer gaming artificial intelligence  synonym selfteaching computer also used time periodalthough earliest machine learning model introduced arthur samuel invented program calculated winning chance checker side  history machine learning root back decade human desire effort study human cognitive process    canadian psychologist donald hebb published book organization behavior  introduced theoretical neural structure formed certain interaction among nerve cell  hebb model neuron interacting one another set groundwork ai machine learning algorithm work node  artificial neuron used computer communicate data  researcher studied human cognitive system contributed modern machine learning technology well  including logician walter pitt warren mcculloch  proposed early mathematical model neural network come algorithm mirror human thought processesby early experimental  learning machine  punched tape memory  called cybertron  developed raytheon company analyze sonar signal  electrocardiogram  speech pattern using rudimentary reinforcement learning  repetitively  trained  human operatorteacher recognize pattern equipped  goof  button cause reevaluate incorrect decision  representative book research machine learning nilsson book learning machine  dealing mostly machine learning pattern classification \n",
            "4: generally  argued since possible attach emotional response stimulus recognized  emotion exist independently cognition recognize  claim precise recognition exists specific attention detail modular mind criticized regard data loss  small system disambiguating synapsis module physically make precise distinction bigger synaptic system encompassing whole brain  energy loss  one system motivation need builtin cognition recognize anything  well another cognitive system making strategy  would cost energy integrating one system use synapsis  data loss inherent information transfer precise system le precise system also argued make impossible imprecise system use precise system  emissary   le precise system would able tell whether outdata precise system interest le precise system \n"
          ]
        }
      ]
    },
    {
      "cell_type": "markdown",
      "source": [
        "### **Text Preprocessing and Average Word Embedding Extraction**"
      ],
      "metadata": {
        "id": "igrIJO2tx4rR"
      }
    },
    {
      "cell_type": "code",
      "source": [
        "!pip install -U spacy\n",
        "!python -m spacy download en_core_web_md"
      ],
      "metadata": {
        "colab": {
          "base_uri": "https://localhost:8080/"
        },
        "id": "dtXI-05cyl5R",
        "outputId": "b280da45-e75a-4aba-a936-f1d99d7aef8c"
      },
      "execution_count": null,
      "outputs": [
        {
          "output_type": "stream",
          "name": "stdout",
          "text": [
            "Requirement already satisfied: spacy in /usr/local/lib/python3.10/dist-packages (3.7.4)\n",
            "Requirement already satisfied: spacy-legacy<3.1.0,>=3.0.11 in /usr/local/lib/python3.10/dist-packages (from spacy) (3.0.12)\n",
            "Requirement already satisfied: spacy-loggers<2.0.0,>=1.0.0 in /usr/local/lib/python3.10/dist-packages (from spacy) (1.0.5)\n",
            "Requirement already satisfied: murmurhash<1.1.0,>=0.28.0 in /usr/local/lib/python3.10/dist-packages (from spacy) (1.0.10)\n",
            "Requirement already satisfied: cymem<2.1.0,>=2.0.2 in /usr/local/lib/python3.10/dist-packages (from spacy) (2.0.8)\n",
            "Requirement already satisfied: preshed<3.1.0,>=3.0.2 in /usr/local/lib/python3.10/dist-packages (from spacy) (3.0.9)\n",
            "Requirement already satisfied: thinc<8.3.0,>=8.2.2 in /usr/local/lib/python3.10/dist-packages (from spacy) (8.2.3)\n",
            "Requirement already satisfied: wasabi<1.2.0,>=0.9.1 in /usr/local/lib/python3.10/dist-packages (from spacy) (1.1.2)\n",
            "Requirement already satisfied: srsly<3.0.0,>=2.4.3 in /usr/local/lib/python3.10/dist-packages (from spacy) (2.4.8)\n",
            "Requirement already satisfied: catalogue<2.1.0,>=2.0.6 in /usr/local/lib/python3.10/dist-packages (from spacy) (2.0.10)\n",
            "Requirement already satisfied: weasel<0.4.0,>=0.1.0 in /usr/local/lib/python3.10/dist-packages (from spacy) (0.3.4)\n",
            "Requirement already satisfied: typer<0.10.0,>=0.3.0 in /usr/local/lib/python3.10/dist-packages (from spacy) (0.9.0)\n",
            "Requirement already satisfied: smart-open<7.0.0,>=5.2.1 in /usr/local/lib/python3.10/dist-packages (from spacy) (6.4.0)\n",
            "Requirement already satisfied: tqdm<5.0.0,>=4.38.0 in /usr/local/lib/python3.10/dist-packages (from spacy) (4.66.2)\n",
            "Requirement already satisfied: requests<3.0.0,>=2.13.0 in /usr/local/lib/python3.10/dist-packages (from spacy) (2.31.0)\n",
            "Requirement already satisfied: pydantic!=1.8,!=1.8.1,<3.0.0,>=1.7.4 in /usr/local/lib/python3.10/dist-packages (from spacy) (2.6.4)\n",
            "Requirement already satisfied: jinja2 in /usr/local/lib/python3.10/dist-packages (from spacy) (3.1.3)\n",
            "Requirement already satisfied: setuptools in /usr/local/lib/python3.10/dist-packages (from spacy) (67.7.2)\n",
            "Requirement already satisfied: packaging>=20.0 in /usr/local/lib/python3.10/dist-packages (from spacy) (24.0)\n",
            "Requirement already satisfied: langcodes<4.0.0,>=3.2.0 in /usr/local/lib/python3.10/dist-packages (from spacy) (3.3.0)\n",
            "Requirement already satisfied: numpy>=1.19.0 in /usr/local/lib/python3.10/dist-packages (from spacy) (1.25.2)\n",
            "Requirement already satisfied: annotated-types>=0.4.0 in /usr/local/lib/python3.10/dist-packages (from pydantic!=1.8,!=1.8.1,<3.0.0,>=1.7.4->spacy) (0.6.0)\n",
            "Requirement already satisfied: pydantic-core==2.16.3 in /usr/local/lib/python3.10/dist-packages (from pydantic!=1.8,!=1.8.1,<3.0.0,>=1.7.4->spacy) (2.16.3)\n",
            "Requirement already satisfied: typing-extensions>=4.6.1 in /usr/local/lib/python3.10/dist-packages (from pydantic!=1.8,!=1.8.1,<3.0.0,>=1.7.4->spacy) (4.10.0)\n",
            "Requirement already satisfied: charset-normalizer<4,>=2 in /usr/local/lib/python3.10/dist-packages (from requests<3.0.0,>=2.13.0->spacy) (3.3.2)\n",
            "Requirement already satisfied: idna<4,>=2.5 in /usr/local/lib/python3.10/dist-packages (from requests<3.0.0,>=2.13.0->spacy) (3.6)\n",
            "Requirement already satisfied: urllib3<3,>=1.21.1 in /usr/local/lib/python3.10/dist-packages (from requests<3.0.0,>=2.13.0->spacy) (2.0.7)\n",
            "Requirement already satisfied: certifi>=2017.4.17 in /usr/local/lib/python3.10/dist-packages (from requests<3.0.0,>=2.13.0->spacy) (2024.2.2)\n",
            "Requirement already satisfied: blis<0.8.0,>=0.7.8 in /usr/local/lib/python3.10/dist-packages (from thinc<8.3.0,>=8.2.2->spacy) (0.7.11)\n",
            "Requirement already satisfied: confection<1.0.0,>=0.0.1 in /usr/local/lib/python3.10/dist-packages (from thinc<8.3.0,>=8.2.2->spacy) (0.1.4)\n",
            "Requirement already satisfied: click<9.0.0,>=7.1.1 in /usr/local/lib/python3.10/dist-packages (from typer<0.10.0,>=0.3.0->spacy) (8.1.7)\n",
            "Requirement already satisfied: cloudpathlib<0.17.0,>=0.7.0 in /usr/local/lib/python3.10/dist-packages (from weasel<0.4.0,>=0.1.0->spacy) (0.16.0)\n",
            "Requirement already satisfied: MarkupSafe>=2.0 in /usr/local/lib/python3.10/dist-packages (from jinja2->spacy) (2.1.5)\n",
            "Collecting en-core-web-md==3.7.1\n",
            "  Downloading https://github.com/explosion/spacy-models/releases/download/en_core_web_md-3.7.1/en_core_web_md-3.7.1-py3-none-any.whl (42.8 MB)\n",
            "\u001b[2K     \u001b[90m━━━━━━━━━━━━━━━━━━━━━━━━━━━━━━━━━━━━━━━━\u001b[0m \u001b[32m42.8/42.8 MB\u001b[0m \u001b[31m15.8 MB/s\u001b[0m eta \u001b[36m0:00:00\u001b[0m\n",
            "\u001b[?25hRequirement already satisfied: spacy<3.8.0,>=3.7.2 in /usr/local/lib/python3.10/dist-packages (from en-core-web-md==3.7.1) (3.7.4)\n",
            "Requirement already satisfied: spacy-legacy<3.1.0,>=3.0.11 in /usr/local/lib/python3.10/dist-packages (from spacy<3.8.0,>=3.7.2->en-core-web-md==3.7.1) (3.0.12)\n",
            "Requirement already satisfied: spacy-loggers<2.0.0,>=1.0.0 in /usr/local/lib/python3.10/dist-packages (from spacy<3.8.0,>=3.7.2->en-core-web-md==3.7.1) (1.0.5)\n",
            "Requirement already satisfied: murmurhash<1.1.0,>=0.28.0 in /usr/local/lib/python3.10/dist-packages (from spacy<3.8.0,>=3.7.2->en-core-web-md==3.7.1) (1.0.10)\n",
            "Requirement already satisfied: cymem<2.1.0,>=2.0.2 in /usr/local/lib/python3.10/dist-packages (from spacy<3.8.0,>=3.7.2->en-core-web-md==3.7.1) (2.0.8)\n",
            "Requirement already satisfied: preshed<3.1.0,>=3.0.2 in /usr/local/lib/python3.10/dist-packages (from spacy<3.8.0,>=3.7.2->en-core-web-md==3.7.1) (3.0.9)\n",
            "Requirement already satisfied: thinc<8.3.0,>=8.2.2 in /usr/local/lib/python3.10/dist-packages (from spacy<3.8.0,>=3.7.2->en-core-web-md==3.7.1) (8.2.3)\n",
            "Requirement already satisfied: wasabi<1.2.0,>=0.9.1 in /usr/local/lib/python3.10/dist-packages (from spacy<3.8.0,>=3.7.2->en-core-web-md==3.7.1) (1.1.2)\n",
            "Requirement already satisfied: srsly<3.0.0,>=2.4.3 in /usr/local/lib/python3.10/dist-packages (from spacy<3.8.0,>=3.7.2->en-core-web-md==3.7.1) (2.4.8)\n",
            "Requirement already satisfied: catalogue<2.1.0,>=2.0.6 in /usr/local/lib/python3.10/dist-packages (from spacy<3.8.0,>=3.7.2->en-core-web-md==3.7.1) (2.0.10)\n",
            "Requirement already satisfied: weasel<0.4.0,>=0.1.0 in /usr/local/lib/python3.10/dist-packages (from spacy<3.8.0,>=3.7.2->en-core-web-md==3.7.1) (0.3.4)\n",
            "Requirement already satisfied: typer<0.10.0,>=0.3.0 in /usr/local/lib/python3.10/dist-packages (from spacy<3.8.0,>=3.7.2->en-core-web-md==3.7.1) (0.9.0)\n",
            "Requirement already satisfied: smart-open<7.0.0,>=5.2.1 in /usr/local/lib/python3.10/dist-packages (from spacy<3.8.0,>=3.7.2->en-core-web-md==3.7.1) (6.4.0)\n",
            "Requirement already satisfied: tqdm<5.0.0,>=4.38.0 in /usr/local/lib/python3.10/dist-packages (from spacy<3.8.0,>=3.7.2->en-core-web-md==3.7.1) (4.66.2)\n",
            "Requirement already satisfied: requests<3.0.0,>=2.13.0 in /usr/local/lib/python3.10/dist-packages (from spacy<3.8.0,>=3.7.2->en-core-web-md==3.7.1) (2.31.0)\n",
            "Requirement already satisfied: pydantic!=1.8,!=1.8.1,<3.0.0,>=1.7.4 in /usr/local/lib/python3.10/dist-packages (from spacy<3.8.0,>=3.7.2->en-core-web-md==3.7.1) (2.6.4)\n",
            "Requirement already satisfied: jinja2 in /usr/local/lib/python3.10/dist-packages (from spacy<3.8.0,>=3.7.2->en-core-web-md==3.7.1) (3.1.3)\n",
            "Requirement already satisfied: setuptools in /usr/local/lib/python3.10/dist-packages (from spacy<3.8.0,>=3.7.2->en-core-web-md==3.7.1) (67.7.2)\n",
            "Requirement already satisfied: packaging>=20.0 in /usr/local/lib/python3.10/dist-packages (from spacy<3.8.0,>=3.7.2->en-core-web-md==3.7.1) (24.0)\n",
            "Requirement already satisfied: langcodes<4.0.0,>=3.2.0 in /usr/local/lib/python3.10/dist-packages (from spacy<3.8.0,>=3.7.2->en-core-web-md==3.7.1) (3.3.0)\n",
            "Requirement already satisfied: numpy>=1.19.0 in /usr/local/lib/python3.10/dist-packages (from spacy<3.8.0,>=3.7.2->en-core-web-md==3.7.1) (1.25.2)\n",
            "Requirement already satisfied: annotated-types>=0.4.0 in /usr/local/lib/python3.10/dist-packages (from pydantic!=1.8,!=1.8.1,<3.0.0,>=1.7.4->spacy<3.8.0,>=3.7.2->en-core-web-md==3.7.1) (0.6.0)\n",
            "Requirement already satisfied: pydantic-core==2.16.3 in /usr/local/lib/python3.10/dist-packages (from pydantic!=1.8,!=1.8.1,<3.0.0,>=1.7.4->spacy<3.8.0,>=3.7.2->en-core-web-md==3.7.1) (2.16.3)\n",
            "Requirement already satisfied: typing-extensions>=4.6.1 in /usr/local/lib/python3.10/dist-packages (from pydantic!=1.8,!=1.8.1,<3.0.0,>=1.7.4->spacy<3.8.0,>=3.7.2->en-core-web-md==3.7.1) (4.10.0)\n",
            "Requirement already satisfied: charset-normalizer<4,>=2 in /usr/local/lib/python3.10/dist-packages (from requests<3.0.0,>=2.13.0->spacy<3.8.0,>=3.7.2->en-core-web-md==3.7.1) (3.3.2)\n",
            "Requirement already satisfied: idna<4,>=2.5 in /usr/local/lib/python3.10/dist-packages (from requests<3.0.0,>=2.13.0->spacy<3.8.0,>=3.7.2->en-core-web-md==3.7.1) (3.6)\n",
            "Requirement already satisfied: urllib3<3,>=1.21.1 in /usr/local/lib/python3.10/dist-packages (from requests<3.0.0,>=2.13.0->spacy<3.8.0,>=3.7.2->en-core-web-md==3.7.1) (2.0.7)\n",
            "Requirement already satisfied: certifi>=2017.4.17 in /usr/local/lib/python3.10/dist-packages (from requests<3.0.0,>=2.13.0->spacy<3.8.0,>=3.7.2->en-core-web-md==3.7.1) (2024.2.2)\n",
            "Requirement already satisfied: blis<0.8.0,>=0.7.8 in /usr/local/lib/python3.10/dist-packages (from thinc<8.3.0,>=8.2.2->spacy<3.8.0,>=3.7.2->en-core-web-md==3.7.1) (0.7.11)\n",
            "Requirement already satisfied: confection<1.0.0,>=0.0.1 in /usr/local/lib/python3.10/dist-packages (from thinc<8.3.0,>=8.2.2->spacy<3.8.0,>=3.7.2->en-core-web-md==3.7.1) (0.1.4)\n",
            "Requirement already satisfied: click<9.0.0,>=7.1.1 in /usr/local/lib/python3.10/dist-packages (from typer<0.10.0,>=0.3.0->spacy<3.8.0,>=3.7.2->en-core-web-md==3.7.1) (8.1.7)\n",
            "Requirement already satisfied: cloudpathlib<0.17.0,>=0.7.0 in /usr/local/lib/python3.10/dist-packages (from weasel<0.4.0,>=0.1.0->spacy<3.8.0,>=3.7.2->en-core-web-md==3.7.1) (0.16.0)\n",
            "Requirement already satisfied: MarkupSafe>=2.0 in /usr/local/lib/python3.10/dist-packages (from jinja2->spacy<3.8.0,>=3.7.2->en-core-web-md==3.7.1) (2.1.5)\n",
            "Installing collected packages: en-core-web-md\n",
            "Successfully installed en-core-web-md-3.7.1\n",
            "\u001b[38;5;2m✔ Download and installation successful\u001b[0m\n",
            "You can now load the package via spacy.load('en_core_web_md')\n",
            "\u001b[38;5;3m⚠ Restart to reload dependencies\u001b[0m\n",
            "If you are in a Jupyter or Colab notebook, you may need to restart Python in\n",
            "order to load all the package's dependencies. You can do this by selecting the\n",
            "'Restart kernel' or 'Restart runtime' option.\n"
          ]
        }
      ]
    },
    {
      "cell_type": "code",
      "source": [
        "import spacy\n",
        "import numpy as np\n",
        "\n",
        "# Load the spaCy model with word vectors\n",
        "nlp = spacy.load(\"en_core_web_md\")\n",
        "\n",
        "# Example code to compute average word embeddings\n",
        "def average_word_embeddings(paragraph):\n",
        "    doc = nlp(paragraph)\n",
        "    word_vectors = [token.vector for token in doc if not token.is_stop and token.is_alpha]\n",
        "    if word_vectors:\n",
        "        avg_word_embedding = np.mean(word_vectors, axis=0)\n",
        "    else:\n",
        "        avg_word_embedding = np.zeros_like(doc.vocab.vectors[0])\n",
        "    return avg_word_embedding\n",
        "\n",
        "# Apply the function to compute average word embeddings for each paragraph\n",
        "train_dataset['avg_embedding'] = train_dataset['paragraph'].apply(average_word_embeddings)"
      ],
      "metadata": {
        "id": "dxtW60n0x9Gg"
      },
      "execution_count": null,
      "outputs": []
    },
    {
      "cell_type": "code",
      "source": [
        "# Print the shape of the train dataset\n",
        "print(\"Shape of the train dataset:\", train_dataset.shape)"
      ],
      "metadata": {
        "colab": {
          "base_uri": "https://localhost:8080/"
        },
        "id": "pWnhrNpjeaxc",
        "outputId": "2508c9dc-98c4-4798-e0db-0077aec27c49"
      },
      "execution_count": null,
      "outputs": [
        {
          "output_type": "stream",
          "name": "stdout",
          "text": [
            "Shape of the train dataset: (11392, 5)\n"
          ]
        }
      ]
    },
    {
      "cell_type": "markdown",
      "source": [
        "### **Label encoding: converting the train labels into numerical values**"
      ],
      "metadata": {
        "id": "S-PnY809synU"
      }
    },
    {
      "cell_type": "code",
      "source": [
        "from sklearn.preprocessing import LabelEncoder\n",
        "\n",
        "# Initialize LabelEncoder\n",
        "label_encoder = LabelEncoder()\n",
        "\n",
        "# Fit and transform categorical labels into numerical values\n",
        "train_labels_numerical = label_encoder.fit_transform(train_labels)\n",
        "\n",
        "# Now train_labels_numerical contains numerical representations of the categorical labels\n",
        "\n",
        "# Print unique numerical labels and their corresponding category labels:\n",
        "unique_numerical_labels = set(train_labels_numerical)\n",
        "print(\"Unique numerical labels and their corresponding category labels:\")\n",
        "for num_label in unique_numerical_labels:\n",
        "    cat_label = label_encoder.inverse_transform([num_label])[0]\n",
        "    print(f\"Numerical label {num_label}: Category label {cat_label}\")"
      ],
      "metadata": {
        "id": "o7s_CTA8s8Ot",
        "colab": {
          "base_uri": "https://localhost:8080/"
        },
        "outputId": "ab8ad6f4-e21c-4eba-9353-b5f844bfbee3"
      },
      "execution_count": null,
      "outputs": [
        {
          "output_type": "stream",
          "name": "stdout",
          "text": [
            "Unique numerical labels and their corresponding category labels:\n",
            "Numerical label 0: Category label artificial intelligence\n",
            "Numerical label 1: Category label biographies\n",
            "Numerical label 2: Category label movies about artificial intelligence\n",
            "Numerical label 3: Category label philosophy\n",
            "Numerical label 4: Category label programming\n"
          ]
        }
      ]
    },
    {
      "cell_type": "markdown",
      "source": [
        "# **5. Testing the data**"
      ],
      "metadata": {
        "id": "y0B4aWNovPJK"
      }
    },
    {
      "cell_type": "code",
      "source": [
        "from sklearn.model_selection import train_test_split\n",
        "\n",
        "# Split the dataset into features (X) and labels (y)\n",
        "X = train_dataset  # Features\n",
        "y = train_labels_numerical    # Labels\n",
        "\n",
        "# Split the dataset into training, validation, and test sets\n",
        "X_train, X_temp, y_train, y_temp = train_test_split(X, y, test_size=0.3, random_state=42)\n",
        "X_val, X_test, y_val, y_test = train_test_split(X_temp, y_temp, test_size=0.5, random_state=42)\n",
        "\n",
        "# Print the sizes of each set\n",
        "print(\"Training set size:\", len(X_train))\n",
        "print(\"Validation set size:\", len(X_val))\n",
        "print(\"Test set size:\", len(X_test))"
      ],
      "metadata": {
        "colab": {
          "base_uri": "https://localhost:8080/"
        },
        "id": "9dCee97ZvU1E",
        "outputId": "445135b6-04a0-4164-dced-9beeb2855bef"
      },
      "execution_count": null,
      "outputs": [
        {
          "output_type": "stream",
          "name": "stdout",
          "text": [
            "Training set size: 7974\n",
            "Validation set size: 1709\n",
            "Test set size: 1709\n"
          ]
        }
      ]
    },
    {
      "cell_type": "code",
      "source": [
        "# Check for missing values in the labels dataset\n",
        "missing_values = train_labels.isnull().sum()\n",
        "\n",
        "# Print the number of missing values for each column\n",
        "print(\"Missing Values:\\n\", missing_values)"
      ],
      "metadata": {
        "colab": {
          "base_uri": "https://localhost:8080/"
        },
        "id": "ZO4g6rYk1mkf",
        "outputId": "ad5f939e-2f9e-427c-f48e-2fb259fcc424"
      },
      "execution_count": null,
      "outputs": [
        {
          "output_type": "stream",
          "name": "stdout",
          "text": [
            "Missing Values:\n",
            " 0\n"
          ]
        }
      ]
    },
    {
      "cell_type": "markdown",
      "source": [
        "# **TASK 1: Topic Classification**"
      ],
      "metadata": {
        "id": "nR8t3pWo2FoS"
      }
    },
    {
      "cell_type": "markdown",
      "source": [
        "## **4a. Model building**"
      ],
      "metadata": {
        "id": "h4f7Ficy2SWT"
      }
    },
    {
      "cell_type": "markdown",
      "source": [
        "### **Converting the word embedding to a numerical value rather than a list**"
      ],
      "metadata": {
        "id": "43o9XlXmABw6"
      }
    },
    {
      "cell_type": "code",
      "source": [
        "X_train['avg_embedding'] = X_train['avg_embedding'].apply(lambda x: np.mean(x))\n"
      ],
      "metadata": {
        "id": "cy-H-Inc8hDu"
      },
      "execution_count": null,
      "outputs": []
    },
    {
      "cell_type": "code",
      "source": [
        "X_test['avg_embedding'] = X_test['avg_embedding'].apply(lambda x: np.mean(x))"
      ],
      "metadata": {
        "id": "LvT2HNiT_CTc"
      },
      "execution_count": null,
      "outputs": []
    },
    {
      "cell_type": "code",
      "source": [
        "print(X_train['avg_embedding'].dtype)\n",
        "print(X_train['avg_embedding'].head())"
      ],
      "metadata": {
        "colab": {
          "base_uri": "https://localhost:8080/"
        },
        "id": "iJr2nbWV6t0B",
        "outputId": "1bfa8819-27cf-4307-902d-aa3b74b04b9b"
      },
      "execution_count": null,
      "outputs": [
        {
          "output_type": "stream",
          "name": "stdout",
          "text": [
            "float32\n",
            "13391    0.014954\n",
            "1893    -0.011755\n",
            "108      0.031570\n",
            "11670    0.031624\n",
            "8325     0.034193\n",
            "Name: avg_embedding, dtype: float32\n"
          ]
        }
      ]
    },
    {
      "cell_type": "code",
      "source": [
        "print(X_test.head())"
      ],
      "metadata": {
        "colab": {
          "base_uri": "https://localhost:8080/"
        },
        "id": "h1AX0Kqq-xSH",
        "outputId": "61cdb130-2af9-4d91-a9f1-4d8ff90bd0a3"
      },
      "execution_count": null,
      "outputs": [
        {
          "output_type": "stream",
          "name": "stdout",
          "text": [
            "                                               paragraph  ORG  PRODUCT  \\\n",
            "7276    Isaac's friend Sharon Turner, a solicitor, co...    1        0   \n",
            "3421   Despite having been offered a state funeral by...    0        0   \n",
            "12632  Discussions for a sequel to Spider-Man: Homeco...    1        0   \n",
            "11269  On Rotten Tomatoes, WarGames received an appro...    1        0   \n",
            "3688    Freud wrote an account of 'Anna O'  which was...    1        0   \n",
            "\n",
            "       PERSON  avg_embedding  \n",
            "7276        1      -0.006261  \n",
            "3421        1      -0.018594  \n",
            "12632       1       0.057091  \n",
            "11269       1       0.034302  \n",
            "3688        1       0.083753  \n"
          ]
        }
      ]
    },
    {
      "cell_type": "markdown",
      "source": [
        "### **Logistic Regression process**"
      ],
      "metadata": {
        "id": "ETRJv0RMARRK"
      }
    },
    {
      "cell_type": "code",
      "source": [
        "from sklearn.linear_model import LogisticRegression\n",
        "from sklearn.preprocessing import StandardScaler\n",
        "from sklearn.compose import ColumnTransformer\n",
        "from sklearn.pipeline import Pipeline\n",
        "\n",
        "# Initialize the logistic regression model\n",
        "logistic_model = LogisticRegression(max_iter=1000)  # You can adjust max_iter as needed\n",
        "\n",
        "# Define the numerical features\n",
        "numerical_features = ['avg_embedding', 'ORG', 'PERSON', 'PRODUCT']\n",
        "\n",
        "# Define the preprocessing steps for numerical features\n",
        "numerical_transformer = Pipeline(steps=[\n",
        "    ('scaler', StandardScaler())  # Standardize numerical features\n",
        "])\n",
        "\n",
        "# Combine preprocessing steps for all features\n",
        "preprocessor = ColumnTransformer(\n",
        "    transformers=[\n",
        "        ('num', numerical_transformer, numerical_features)\n",
        "    ])\n",
        "\n",
        "# Create the pipeline\n",
        "pipeline = Pipeline(steps=[('preprocessor', preprocessor),\n",
        "                           ('classifier', logistic_model)])\n",
        "\n",
        "# Train the model on the training set\n",
        "pipeline.fit(X_train, y_train)\n",
        "\n",
        "# Once trained, you can use this pipeline object to make predictions on new data"
      ],
      "metadata": {
        "colab": {
          "base_uri": "https://localhost:8080/",
          "height": 193
        },
        "id": "SvzS-NsD2h_q",
        "outputId": "fc1c5286-14d5-477f-9ed9-a97770007d55"
      },
      "execution_count": null,
      "outputs": [
        {
          "output_type": "execute_result",
          "data": {
            "text/plain": [
              "Pipeline(steps=[('preprocessor',\n",
              "                 ColumnTransformer(transformers=[('num',\n",
              "                                                  Pipeline(steps=[('scaler',\n",
              "                                                                   StandardScaler())]),\n",
              "                                                  ['avg_embedding', 'ORG',\n",
              "                                                   'PERSON', 'PRODUCT'])])),\n",
              "                ('classifier', LogisticRegression(max_iter=1000))])"
            ],
            "text/html": [
              "<style>#sk-container-id-2 {color: black;background-color: white;}#sk-container-id-2 pre{padding: 0;}#sk-container-id-2 div.sk-toggleable {background-color: white;}#sk-container-id-2 label.sk-toggleable__label {cursor: pointer;display: block;width: 100%;margin-bottom: 0;padding: 0.3em;box-sizing: border-box;text-align: center;}#sk-container-id-2 label.sk-toggleable__label-arrow:before {content: \"▸\";float: left;margin-right: 0.25em;color: #696969;}#sk-container-id-2 label.sk-toggleable__label-arrow:hover:before {color: black;}#sk-container-id-2 div.sk-estimator:hover label.sk-toggleable__label-arrow:before {color: black;}#sk-container-id-2 div.sk-toggleable__content {max-height: 0;max-width: 0;overflow: hidden;text-align: left;background-color: #f0f8ff;}#sk-container-id-2 div.sk-toggleable__content pre {margin: 0.2em;color: black;border-radius: 0.25em;background-color: #f0f8ff;}#sk-container-id-2 input.sk-toggleable__control:checked~div.sk-toggleable__content {max-height: 200px;max-width: 100%;overflow: auto;}#sk-container-id-2 input.sk-toggleable__control:checked~label.sk-toggleable__label-arrow:before {content: \"▾\";}#sk-container-id-2 div.sk-estimator input.sk-toggleable__control:checked~label.sk-toggleable__label {background-color: #d4ebff;}#sk-container-id-2 div.sk-label input.sk-toggleable__control:checked~label.sk-toggleable__label {background-color: #d4ebff;}#sk-container-id-2 input.sk-hidden--visually {border: 0;clip: rect(1px 1px 1px 1px);clip: rect(1px, 1px, 1px, 1px);height: 1px;margin: -1px;overflow: hidden;padding: 0;position: absolute;width: 1px;}#sk-container-id-2 div.sk-estimator {font-family: monospace;background-color: #f0f8ff;border: 1px dotted black;border-radius: 0.25em;box-sizing: border-box;margin-bottom: 0.5em;}#sk-container-id-2 div.sk-estimator:hover {background-color: #d4ebff;}#sk-container-id-2 div.sk-parallel-item::after {content: \"\";width: 100%;border-bottom: 1px solid gray;flex-grow: 1;}#sk-container-id-2 div.sk-label:hover label.sk-toggleable__label {background-color: #d4ebff;}#sk-container-id-2 div.sk-serial::before {content: \"\";position: absolute;border-left: 1px solid gray;box-sizing: border-box;top: 0;bottom: 0;left: 50%;z-index: 0;}#sk-container-id-2 div.sk-serial {display: flex;flex-direction: column;align-items: center;background-color: white;padding-right: 0.2em;padding-left: 0.2em;position: relative;}#sk-container-id-2 div.sk-item {position: relative;z-index: 1;}#sk-container-id-2 div.sk-parallel {display: flex;align-items: stretch;justify-content: center;background-color: white;position: relative;}#sk-container-id-2 div.sk-item::before, #sk-container-id-2 div.sk-parallel-item::before {content: \"\";position: absolute;border-left: 1px solid gray;box-sizing: border-box;top: 0;bottom: 0;left: 50%;z-index: -1;}#sk-container-id-2 div.sk-parallel-item {display: flex;flex-direction: column;z-index: 1;position: relative;background-color: white;}#sk-container-id-2 div.sk-parallel-item:first-child::after {align-self: flex-end;width: 50%;}#sk-container-id-2 div.sk-parallel-item:last-child::after {align-self: flex-start;width: 50%;}#sk-container-id-2 div.sk-parallel-item:only-child::after {width: 0;}#sk-container-id-2 div.sk-dashed-wrapped {border: 1px dashed gray;margin: 0 0.4em 0.5em 0.4em;box-sizing: border-box;padding-bottom: 0.4em;background-color: white;}#sk-container-id-2 div.sk-label label {font-family: monospace;font-weight: bold;display: inline-block;line-height: 1.2em;}#sk-container-id-2 div.sk-label-container {text-align: center;}#sk-container-id-2 div.sk-container {/* jupyter's `normalize.less` sets `[hidden] { display: none; }` but bootstrap.min.css set `[hidden] { display: none !important; }` so we also need the `!important` here to be able to override the default hidden behavior on the sphinx rendered scikit-learn.org. See: https://github.com/scikit-learn/scikit-learn/issues/21755 */display: inline-block !important;position: relative;}#sk-container-id-2 div.sk-text-repr-fallback {display: none;}</style><div id=\"sk-container-id-2\" class=\"sk-top-container\"><div class=\"sk-text-repr-fallback\"><pre>Pipeline(steps=[(&#x27;preprocessor&#x27;,\n",
              "                 ColumnTransformer(transformers=[(&#x27;num&#x27;,\n",
              "                                                  Pipeline(steps=[(&#x27;scaler&#x27;,\n",
              "                                                                   StandardScaler())]),\n",
              "                                                  [&#x27;avg_embedding&#x27;, &#x27;ORG&#x27;,\n",
              "                                                   &#x27;PERSON&#x27;, &#x27;PRODUCT&#x27;])])),\n",
              "                (&#x27;classifier&#x27;, LogisticRegression(max_iter=1000))])</pre><b>In a Jupyter environment, please rerun this cell to show the HTML representation or trust the notebook. <br />On GitHub, the HTML representation is unable to render, please try loading this page with nbviewer.org.</b></div><div class=\"sk-container\" hidden><div class=\"sk-item sk-dashed-wrapped\"><div class=\"sk-label-container\"><div class=\"sk-label sk-toggleable\"><input class=\"sk-toggleable__control sk-hidden--visually\" id=\"sk-estimator-id-6\" type=\"checkbox\" ><label for=\"sk-estimator-id-6\" class=\"sk-toggleable__label sk-toggleable__label-arrow\">Pipeline</label><div class=\"sk-toggleable__content\"><pre>Pipeline(steps=[(&#x27;preprocessor&#x27;,\n",
              "                 ColumnTransformer(transformers=[(&#x27;num&#x27;,\n",
              "                                                  Pipeline(steps=[(&#x27;scaler&#x27;,\n",
              "                                                                   StandardScaler())]),\n",
              "                                                  [&#x27;avg_embedding&#x27;, &#x27;ORG&#x27;,\n",
              "                                                   &#x27;PERSON&#x27;, &#x27;PRODUCT&#x27;])])),\n",
              "                (&#x27;classifier&#x27;, LogisticRegression(max_iter=1000))])</pre></div></div></div><div class=\"sk-serial\"><div class=\"sk-item sk-dashed-wrapped\"><div class=\"sk-label-container\"><div class=\"sk-label sk-toggleable\"><input class=\"sk-toggleable__control sk-hidden--visually\" id=\"sk-estimator-id-7\" type=\"checkbox\" ><label for=\"sk-estimator-id-7\" class=\"sk-toggleable__label sk-toggleable__label-arrow\">preprocessor: ColumnTransformer</label><div class=\"sk-toggleable__content\"><pre>ColumnTransformer(transformers=[(&#x27;num&#x27;,\n",
              "                                 Pipeline(steps=[(&#x27;scaler&#x27;, StandardScaler())]),\n",
              "                                 [&#x27;avg_embedding&#x27;, &#x27;ORG&#x27;, &#x27;PERSON&#x27;,\n",
              "                                  &#x27;PRODUCT&#x27;])])</pre></div></div></div><div class=\"sk-parallel\"><div class=\"sk-parallel-item\"><div class=\"sk-item\"><div class=\"sk-label-container\"><div class=\"sk-label sk-toggleable\"><input class=\"sk-toggleable__control sk-hidden--visually\" id=\"sk-estimator-id-8\" type=\"checkbox\" ><label for=\"sk-estimator-id-8\" class=\"sk-toggleable__label sk-toggleable__label-arrow\">num</label><div class=\"sk-toggleable__content\"><pre>[&#x27;avg_embedding&#x27;, &#x27;ORG&#x27;, &#x27;PERSON&#x27;, &#x27;PRODUCT&#x27;]</pre></div></div></div><div class=\"sk-serial\"><div class=\"sk-item\"><div class=\"sk-serial\"><div class=\"sk-item\"><div class=\"sk-estimator sk-toggleable\"><input class=\"sk-toggleable__control sk-hidden--visually\" id=\"sk-estimator-id-9\" type=\"checkbox\" ><label for=\"sk-estimator-id-9\" class=\"sk-toggleable__label sk-toggleable__label-arrow\">StandardScaler</label><div class=\"sk-toggleable__content\"><pre>StandardScaler()</pre></div></div></div></div></div></div></div></div></div></div><div class=\"sk-item\"><div class=\"sk-estimator sk-toggleable\"><input class=\"sk-toggleable__control sk-hidden--visually\" id=\"sk-estimator-id-10\" type=\"checkbox\" ><label for=\"sk-estimator-id-10\" class=\"sk-toggleable__label sk-toggleable__label-arrow\">LogisticRegression</label><div class=\"sk-toggleable__content\"><pre>LogisticRegression(max_iter=1000)</pre></div></div></div></div></div></div></div>"
            ]
          },
          "metadata": {},
          "execution_count": 88
        }
      ]
    },
    {
      "cell_type": "markdown",
      "source": [
        "### **Model Hyperparameters: Grid search technique**"
      ],
      "metadata": {
        "id": "poM2M21BewS2"
      }
    },
    {
      "cell_type": "code",
      "source": [
        "from sklearn.model_selection import GridSearchCV\n",
        "\n",
        "# Define the hyperparameters and their ranges for the grid search\n",
        "param_grid = {\n",
        "    'classifier__C': [0.001, 0.01, 0.1, 1, 10, 100],  # Regularization strength\n",
        "    'classifier__max_iter': [100, 500, 1000],          # Maximum number of iterations\n",
        "    'classifier__solver': ['lbfgs', 'liblinear'],       # Optimization algorithm\n",
        "    'classifier__penalty': ['l2']                # Type of regularization penalty\n",
        "}\n",
        "\n",
        "# Perform grid search with cross-validation\n",
        "grid_search = GridSearchCV(estimator=pipeline, param_grid=param_grid, cv=5, scoring='accuracy')\n",
        "\n",
        "# Fit the grid search to the training data\n",
        "grid_search.fit(X_train, y_train)\n",
        "\n",
        "# Get the best hyperparameters\n",
        "best_params = grid_search.best_params_\n",
        "print(\"Best Hyperparameters:\", best_params)\n",
        "\n",
        "# Get the best model\n",
        "best_model = grid_search.best_estimator_\n",
        "\n",
        "# Evaluate the best model on the test set\n",
        "test_accuracy = best_model.score(X_test, y_test)\n",
        "print(\"Test Accuracy:\", test_accuracy)"
      ],
      "metadata": {
        "colab": {
          "base_uri": "https://localhost:8080/"
        },
        "id": "dLJLZnLEevBV",
        "outputId": "2ebd8437-08cc-4ed5-9d92-f137f3db2cb7"
      },
      "execution_count": null,
      "outputs": [
        {
          "output_type": "stream",
          "name": "stdout",
          "text": [
            "Best Hyperparameters: {'classifier__C': 0.01, 'classifier__max_iter': 100, 'classifier__penalty': 'l2', 'classifier__solver': 'lbfgs'}\n",
            "Test Accuracy: 0.40315974253949677\n"
          ]
        }
      ]
    },
    {
      "cell_type": "markdown",
      "source": [
        "## **4b. Model evaluation**"
      ],
      "metadata": {
        "id": "PE-dpAudDjVT"
      }
    },
    {
      "cell_type": "markdown",
      "source": [
        "### **Confusion Matrix and a Classification Report**"
      ],
      "metadata": {
        "id": "a52rAjU4AxAY"
      }
    },
    {
      "cell_type": "code",
      "source": [
        "from sklearn.metrics import confusion_matrix, classification_report\n",
        "\n",
        "# Concatenate the features for the test set\n",
        "X_test_features = np.column_stack((X_test['avg_embedding'].tolist(), X_test[['ORG', 'PRODUCT', 'PERSON']].values))\n",
        "\n",
        "# Predict labels for the test set\n",
        "y_pred = pipeline.predict(X_test)\n",
        "\n",
        "# Evaluate the model\n",
        "conf_matrix = confusion_matrix(y_test, y_pred)\n",
        "class_report = classification_report(y_test, y_pred)\n",
        "\n",
        "# Print confusion matrix and classification report\n",
        "print(\"Confusion Matrix:\\n\", conf_matrix)\n",
        "print(\"\\nClassification Report:\\n\", class_report)"
      ],
      "metadata": {
        "colab": {
          "base_uri": "https://localhost:8080/"
        },
        "id": "hY0JSXB_-Hyw",
        "outputId": "3dbc8cdf-13dd-4568-c952-d2aeea5ae7e8"
      },
      "execution_count": null,
      "outputs": [
        {
          "output_type": "stream",
          "name": "stdout",
          "text": [
            "Confusion Matrix:\n",
            " [[172  35  38  27  79]\n",
            " [ 49 144  64  46  22]\n",
            " [ 32  89 182  30  14]\n",
            " [108  52  33  63  75]\n",
            " [131  10  58  33 123]]\n",
            "\n",
            "Classification Report:\n",
            "               precision    recall  f1-score   support\n",
            "\n",
            "           0       0.35      0.49      0.41       351\n",
            "           1       0.44      0.44      0.44       325\n",
            "           2       0.49      0.52      0.50       347\n",
            "           3       0.32      0.19      0.24       331\n",
            "           4       0.39      0.35      0.37       355\n",
            "\n",
            "    accuracy                           0.40      1709\n",
            "   macro avg       0.40      0.40      0.39      1709\n",
            "weighted avg       0.40      0.40      0.39      1709\n",
            "\n"
          ]
        }
      ]
    },
    {
      "cell_type": "markdown",
      "source": [
        "### **The Baseline Comparison involves comparing the performance of the developed model with a simple baseline approach, such as random guessing or predicting the majority class.**"
      ],
      "metadata": {
        "id": "aSSNNOFrEWVz"
      }
    },
    {
      "cell_type": "code",
      "source": [
        "from sklearn.dummy import DummyClassifier\n",
        "from sklearn.metrics import confusion_matrix, classification_report\n",
        "\n",
        "# Create a feature matrix with the specified features\n",
        "X_train_features = X_train[['avg_embedding', 'ORG', 'PERSON', 'PRODUCT']]\n",
        "X_test_features = X_test[['avg_embedding', 'ORG', 'PERSON', 'PRODUCT']]\n",
        "\n",
        "# Create a DummyClassifier that predicts the majority class\n",
        "baseline_model = DummyClassifier(strategy='most_frequent')\n",
        "\n",
        "# Fit the baseline model on the training data\n",
        "baseline_model.fit(X_train_features, y_train)\n",
        "\n",
        "# Predict labels for the test set using the baseline model\n",
        "baseline_predictions = baseline_model.predict(X_test_features)\n",
        "\n",
        "# Evaluate the baseline model using a confusion matrix and classification report\n",
        "baseline_conf_matrix = confusion_matrix(y_test, baseline_predictions)\n",
        "baseline_class_report = classification_report(y_test, baseline_predictions)\n",
        "\n",
        "# Print the confusion matrix and classification report\n",
        "print(\"Baseline Confusion Matrix:\\n\", baseline_conf_matrix)\n",
        "print(\"\\nBaseline Classification Report:\\n\", baseline_class_report)"
      ],
      "metadata": {
        "colab": {
          "base_uri": "https://localhost:8080/"
        },
        "id": "B5tvQ6NyTmUh",
        "outputId": "d5feb416-3729-43a2-b1e5-39689d374c02"
      },
      "execution_count": null,
      "outputs": [
        {
          "output_type": "stream",
          "name": "stdout",
          "text": [
            "Baseline Confusion Matrix:\n",
            " [[  0 351   0   0   0]\n",
            " [  0 325   0   0   0]\n",
            " [  0 347   0   0   0]\n",
            " [  0 331   0   0   0]\n",
            " [  0 355   0   0   0]]\n",
            "\n",
            "Baseline Classification Report:\n",
            "               precision    recall  f1-score   support\n",
            "\n",
            "           0       0.00      0.00      0.00       351\n",
            "           1       0.19      1.00      0.32       325\n",
            "           2       0.00      0.00      0.00       347\n",
            "           3       0.00      0.00      0.00       331\n",
            "           4       0.00      0.00      0.00       355\n",
            "\n",
            "    accuracy                           0.19      1709\n",
            "   macro avg       0.04      0.20      0.06      1709\n",
            "weighted avg       0.04      0.19      0.06      1709\n",
            "\n"
          ]
        },
        {
          "output_type": "stream",
          "name": "stderr",
          "text": [
            "/usr/local/lib/python3.10/dist-packages/sklearn/metrics/_classification.py:1344: UndefinedMetricWarning: Precision and F-score are ill-defined and being set to 0.0 in labels with no predicted samples. Use `zero_division` parameter to control this behavior.\n",
            "  _warn_prf(average, modifier, msg_start, len(result))\n",
            "/usr/local/lib/python3.10/dist-packages/sklearn/metrics/_classification.py:1344: UndefinedMetricWarning: Precision and F-score are ill-defined and being set to 0.0 in labels with no predicted samples. Use `zero_division` parameter to control this behavior.\n",
            "  _warn_prf(average, modifier, msg_start, len(result))\n",
            "/usr/local/lib/python3.10/dist-packages/sklearn/metrics/_classification.py:1344: UndefinedMetricWarning: Precision and F-score are ill-defined and being set to 0.0 in labels with no predicted samples. Use `zero_division` parameter to control this behavior.\n",
            "  _warn_prf(average, modifier, msg_start, len(result))\n"
          ]
        }
      ]
    },
    {
      "cell_type": "markdown",
      "source": [
        "# **Task 2: text clarity classification prototype.**"
      ],
      "metadata": {
        "id": "dOLDAG56cFe0"
      }
    },
    {
      "cell_type": "markdown",
      "source": [
        "## **Importing necessary libraries**"
      ],
      "metadata": {
        "id": "zW8ASG49wcun"
      }
    },
    {
      "cell_type": "code",
      "execution_count": null,
      "metadata": {
        "colab": {
          "base_uri": "https://localhost:8080/"
        },
        "id": "YZn-swX4v_Zq",
        "outputId": "c4c6ebae-6bdb-44bc-88b6-11af356ddb80"
      },
      "outputs": [
        {
          "output_type": "stream",
          "name": "stdout",
          "text": [
            "Requirement already satisfied: spacy in /usr/local/lib/python3.10/dist-packages (3.7.4)\n",
            "Requirement already satisfied: spacy-legacy<3.1.0,>=3.0.11 in /usr/local/lib/python3.10/dist-packages (from spacy) (3.0.12)\n",
            "Requirement already satisfied: spacy-loggers<2.0.0,>=1.0.0 in /usr/local/lib/python3.10/dist-packages (from spacy) (1.0.5)\n",
            "Requirement already satisfied: murmurhash<1.1.0,>=0.28.0 in /usr/local/lib/python3.10/dist-packages (from spacy) (1.0.10)\n",
            "Requirement already satisfied: cymem<2.1.0,>=2.0.2 in /usr/local/lib/python3.10/dist-packages (from spacy) (2.0.8)\n",
            "Requirement already satisfied: preshed<3.1.0,>=3.0.2 in /usr/local/lib/python3.10/dist-packages (from spacy) (3.0.9)\n",
            "Requirement already satisfied: thinc<8.3.0,>=8.2.2 in /usr/local/lib/python3.10/dist-packages (from spacy) (8.2.3)\n",
            "Requirement already satisfied: wasabi<1.2.0,>=0.9.1 in /usr/local/lib/python3.10/dist-packages (from spacy) (1.1.2)\n",
            "Requirement already satisfied: srsly<3.0.0,>=2.4.3 in /usr/local/lib/python3.10/dist-packages (from spacy) (2.4.8)\n",
            "Requirement already satisfied: catalogue<2.1.0,>=2.0.6 in /usr/local/lib/python3.10/dist-packages (from spacy) (2.0.10)\n",
            "Requirement already satisfied: weasel<0.4.0,>=0.1.0 in /usr/local/lib/python3.10/dist-packages (from spacy) (0.3.4)\n",
            "Requirement already satisfied: typer<0.10.0,>=0.3.0 in /usr/local/lib/python3.10/dist-packages (from spacy) (0.9.0)\n",
            "Requirement already satisfied: smart-open<7.0.0,>=5.2.1 in /usr/local/lib/python3.10/dist-packages (from spacy) (6.4.0)\n",
            "Requirement already satisfied: tqdm<5.0.0,>=4.38.0 in /usr/local/lib/python3.10/dist-packages (from spacy) (4.66.2)\n",
            "Requirement already satisfied: requests<3.0.0,>=2.13.0 in /usr/local/lib/python3.10/dist-packages (from spacy) (2.31.0)\n",
            "Requirement already satisfied: pydantic!=1.8,!=1.8.1,<3.0.0,>=1.7.4 in /usr/local/lib/python3.10/dist-packages (from spacy) (2.6.4)\n",
            "Requirement already satisfied: jinja2 in /usr/local/lib/python3.10/dist-packages (from spacy) (3.1.3)\n",
            "Requirement already satisfied: setuptools in /usr/local/lib/python3.10/dist-packages (from spacy) (67.7.2)\n",
            "Requirement already satisfied: packaging>=20.0 in /usr/local/lib/python3.10/dist-packages (from spacy) (24.0)\n",
            "Requirement already satisfied: langcodes<4.0.0,>=3.2.0 in /usr/local/lib/python3.10/dist-packages (from spacy) (3.3.0)\n",
            "Requirement already satisfied: numpy>=1.19.0 in /usr/local/lib/python3.10/dist-packages (from spacy) (1.25.2)\n",
            "Requirement already satisfied: annotated-types>=0.4.0 in /usr/local/lib/python3.10/dist-packages (from pydantic!=1.8,!=1.8.1,<3.0.0,>=1.7.4->spacy) (0.6.0)\n",
            "Requirement already satisfied: pydantic-core==2.16.3 in /usr/local/lib/python3.10/dist-packages (from pydantic!=1.8,!=1.8.1,<3.0.0,>=1.7.4->spacy) (2.16.3)\n",
            "Requirement already satisfied: typing-extensions>=4.6.1 in /usr/local/lib/python3.10/dist-packages (from pydantic!=1.8,!=1.8.1,<3.0.0,>=1.7.4->spacy) (4.10.0)\n",
            "Requirement already satisfied: charset-normalizer<4,>=2 in /usr/local/lib/python3.10/dist-packages (from requests<3.0.0,>=2.13.0->spacy) (3.3.2)\n",
            "Requirement already satisfied: idna<4,>=2.5 in /usr/local/lib/python3.10/dist-packages (from requests<3.0.0,>=2.13.0->spacy) (3.6)\n",
            "Requirement already satisfied: urllib3<3,>=1.21.1 in /usr/local/lib/python3.10/dist-packages (from requests<3.0.0,>=2.13.0->spacy) (2.0.7)\n",
            "Requirement already satisfied: certifi>=2017.4.17 in /usr/local/lib/python3.10/dist-packages (from requests<3.0.0,>=2.13.0->spacy) (2024.2.2)\n",
            "Requirement already satisfied: blis<0.8.0,>=0.7.8 in /usr/local/lib/python3.10/dist-packages (from thinc<8.3.0,>=8.2.2->spacy) (0.7.11)\n",
            "Requirement already satisfied: confection<1.0.0,>=0.0.1 in /usr/local/lib/python3.10/dist-packages (from thinc<8.3.0,>=8.2.2->spacy) (0.1.4)\n",
            "Requirement already satisfied: click<9.0.0,>=7.1.1 in /usr/local/lib/python3.10/dist-packages (from typer<0.10.0,>=0.3.0->spacy) (8.1.7)\n",
            "Requirement already satisfied: cloudpathlib<0.17.0,>=0.7.0 in /usr/local/lib/python3.10/dist-packages (from weasel<0.4.0,>=0.1.0->spacy) (0.16.0)\n",
            "Requirement already satisfied: MarkupSafe>=2.0 in /usr/local/lib/python3.10/dist-packages (from jinja2->spacy) (2.1.5)\n",
            "Collecting en-core-web-md==3.7.1\n",
            "  Downloading https://github.com/explosion/spacy-models/releases/download/en_core_web_md-3.7.1/en_core_web_md-3.7.1-py3-none-any.whl (42.8 MB)\n",
            "\u001b[2K     \u001b[90m━━━━━━━━━━━━━━━━━━━━━━━━━━━━━━━━━━━━━━━━\u001b[0m \u001b[32m42.8/42.8 MB\u001b[0m \u001b[31m18.4 MB/s\u001b[0m eta \u001b[36m0:00:00\u001b[0m\n",
            "\u001b[?25hRequirement already satisfied: spacy<3.8.0,>=3.7.2 in /usr/local/lib/python3.10/dist-packages (from en-core-web-md==3.7.1) (3.7.4)\n",
            "Requirement already satisfied: spacy-legacy<3.1.0,>=3.0.11 in /usr/local/lib/python3.10/dist-packages (from spacy<3.8.0,>=3.7.2->en-core-web-md==3.7.1) (3.0.12)\n",
            "Requirement already satisfied: spacy-loggers<2.0.0,>=1.0.0 in /usr/local/lib/python3.10/dist-packages (from spacy<3.8.0,>=3.7.2->en-core-web-md==3.7.1) (1.0.5)\n",
            "Requirement already satisfied: murmurhash<1.1.0,>=0.28.0 in /usr/local/lib/python3.10/dist-packages (from spacy<3.8.0,>=3.7.2->en-core-web-md==3.7.1) (1.0.10)\n",
            "Requirement already satisfied: cymem<2.1.0,>=2.0.2 in /usr/local/lib/python3.10/dist-packages (from spacy<3.8.0,>=3.7.2->en-core-web-md==3.7.1) (2.0.8)\n",
            "Requirement already satisfied: preshed<3.1.0,>=3.0.2 in /usr/local/lib/python3.10/dist-packages (from spacy<3.8.0,>=3.7.2->en-core-web-md==3.7.1) (3.0.9)\n",
            "Requirement already satisfied: thinc<8.3.0,>=8.2.2 in /usr/local/lib/python3.10/dist-packages (from spacy<3.8.0,>=3.7.2->en-core-web-md==3.7.1) (8.2.3)\n",
            "Requirement already satisfied: wasabi<1.2.0,>=0.9.1 in /usr/local/lib/python3.10/dist-packages (from spacy<3.8.0,>=3.7.2->en-core-web-md==3.7.1) (1.1.2)\n",
            "Requirement already satisfied: srsly<3.0.0,>=2.4.3 in /usr/local/lib/python3.10/dist-packages (from spacy<3.8.0,>=3.7.2->en-core-web-md==3.7.1) (2.4.8)\n",
            "Requirement already satisfied: catalogue<2.1.0,>=2.0.6 in /usr/local/lib/python3.10/dist-packages (from spacy<3.8.0,>=3.7.2->en-core-web-md==3.7.1) (2.0.10)\n",
            "Requirement already satisfied: weasel<0.4.0,>=0.1.0 in /usr/local/lib/python3.10/dist-packages (from spacy<3.8.0,>=3.7.2->en-core-web-md==3.7.1) (0.3.4)\n",
            "Requirement already satisfied: typer<0.10.0,>=0.3.0 in /usr/local/lib/python3.10/dist-packages (from spacy<3.8.0,>=3.7.2->en-core-web-md==3.7.1) (0.9.0)\n",
            "Requirement already satisfied: smart-open<7.0.0,>=5.2.1 in /usr/local/lib/python3.10/dist-packages (from spacy<3.8.0,>=3.7.2->en-core-web-md==3.7.1) (6.4.0)\n",
            "Requirement already satisfied: tqdm<5.0.0,>=4.38.0 in /usr/local/lib/python3.10/dist-packages (from spacy<3.8.0,>=3.7.2->en-core-web-md==3.7.1) (4.66.2)\n",
            "Requirement already satisfied: requests<3.0.0,>=2.13.0 in /usr/local/lib/python3.10/dist-packages (from spacy<3.8.0,>=3.7.2->en-core-web-md==3.7.1) (2.31.0)\n",
            "Requirement already satisfied: pydantic!=1.8,!=1.8.1,<3.0.0,>=1.7.4 in /usr/local/lib/python3.10/dist-packages (from spacy<3.8.0,>=3.7.2->en-core-web-md==3.7.1) (2.6.4)\n",
            "Requirement already satisfied: jinja2 in /usr/local/lib/python3.10/dist-packages (from spacy<3.8.0,>=3.7.2->en-core-web-md==3.7.1) (3.1.3)\n",
            "Requirement already satisfied: setuptools in /usr/local/lib/python3.10/dist-packages (from spacy<3.8.0,>=3.7.2->en-core-web-md==3.7.1) (67.7.2)\n",
            "Requirement already satisfied: packaging>=20.0 in /usr/local/lib/python3.10/dist-packages (from spacy<3.8.0,>=3.7.2->en-core-web-md==3.7.1) (24.0)\n",
            "Requirement already satisfied: langcodes<4.0.0,>=3.2.0 in /usr/local/lib/python3.10/dist-packages (from spacy<3.8.0,>=3.7.2->en-core-web-md==3.7.1) (3.3.0)\n",
            "Requirement already satisfied: numpy>=1.19.0 in /usr/local/lib/python3.10/dist-packages (from spacy<3.8.0,>=3.7.2->en-core-web-md==3.7.1) (1.25.2)\n",
            "Requirement already satisfied: annotated-types>=0.4.0 in /usr/local/lib/python3.10/dist-packages (from pydantic!=1.8,!=1.8.1,<3.0.0,>=1.7.4->spacy<3.8.0,>=3.7.2->en-core-web-md==3.7.1) (0.6.0)\n",
            "Requirement already satisfied: pydantic-core==2.16.3 in /usr/local/lib/python3.10/dist-packages (from pydantic!=1.8,!=1.8.1,<3.0.0,>=1.7.4->spacy<3.8.0,>=3.7.2->en-core-web-md==3.7.1) (2.16.3)\n",
            "Requirement already satisfied: typing-extensions>=4.6.1 in /usr/local/lib/python3.10/dist-packages (from pydantic!=1.8,!=1.8.1,<3.0.0,>=1.7.4->spacy<3.8.0,>=3.7.2->en-core-web-md==3.7.1) (4.10.0)\n",
            "Requirement already satisfied: charset-normalizer<4,>=2 in /usr/local/lib/python3.10/dist-packages (from requests<3.0.0,>=2.13.0->spacy<3.8.0,>=3.7.2->en-core-web-md==3.7.1) (3.3.2)\n",
            "Requirement already satisfied: idna<4,>=2.5 in /usr/local/lib/python3.10/dist-packages (from requests<3.0.0,>=2.13.0->spacy<3.8.0,>=3.7.2->en-core-web-md==3.7.1) (3.6)\n",
            "Requirement already satisfied: urllib3<3,>=1.21.1 in /usr/local/lib/python3.10/dist-packages (from requests<3.0.0,>=2.13.0->spacy<3.8.0,>=3.7.2->en-core-web-md==3.7.1) (2.0.7)\n",
            "Requirement already satisfied: certifi>=2017.4.17 in /usr/local/lib/python3.10/dist-packages (from requests<3.0.0,>=2.13.0->spacy<3.8.0,>=3.7.2->en-core-web-md==3.7.1) (2024.2.2)\n",
            "Requirement already satisfied: blis<0.8.0,>=0.7.8 in /usr/local/lib/python3.10/dist-packages (from thinc<8.3.0,>=8.2.2->spacy<3.8.0,>=3.7.2->en-core-web-md==3.7.1) (0.7.11)\n",
            "Requirement already satisfied: confection<1.0.0,>=0.0.1 in /usr/local/lib/python3.10/dist-packages (from thinc<8.3.0,>=8.2.2->spacy<3.8.0,>=3.7.2->en-core-web-md==3.7.1) (0.1.4)\n",
            "Requirement already satisfied: click<9.0.0,>=7.1.1 in /usr/local/lib/python3.10/dist-packages (from typer<0.10.0,>=0.3.0->spacy<3.8.0,>=3.7.2->en-core-web-md==3.7.1) (8.1.7)\n",
            "Requirement already satisfied: cloudpathlib<0.17.0,>=0.7.0 in /usr/local/lib/python3.10/dist-packages (from weasel<0.4.0,>=0.1.0->spacy<3.8.0,>=3.7.2->en-core-web-md==3.7.1) (0.16.0)\n",
            "Requirement already satisfied: MarkupSafe>=2.0 in /usr/local/lib/python3.10/dist-packages (from jinja2->spacy<3.8.0,>=3.7.2->en-core-web-md==3.7.1) (2.1.5)\n",
            "Installing collected packages: en-core-web-md\n",
            "Successfully installed en-core-web-md-3.7.1\n",
            "\u001b[38;5;2m✔ Download and installation successful\u001b[0m\n",
            "You can now load the package via spacy.load('en_core_web_md')\n",
            "\u001b[38;5;3m⚠ Restart to reload dependencies\u001b[0m\n",
            "If you are in a Jupyter or Colab notebook, you may need to restart Python in\n",
            "order to load all the package's dependencies. You can do this by selecting the\n",
            "'Restart kernel' or 'Restart runtime' option.\n"
          ]
        }
      ],
      "source": [
        "import numpy as np\n",
        "import matplotlib.pyplot as plt\n",
        "import pandas as pd\n",
        "import random\n",
        "import re\n",
        "import nltk\n",
        "\n",
        "!pip install -U spacy\n",
        "!python -m spacy download en_core_web_md"
      ]
    },
    {
      "cell_type": "markdown",
      "source": [
        "## **Downloading CSV file into colab**"
      ],
      "metadata": {
        "id": "OPVLH2xWwpIs"
      }
    },
    {
      "cell_type": "code",
      "source": [
        "USING_COLAB = True\n",
        "if USING_COLAB:\n",
        "  from google.colab import drive\n",
        "  drive.mount('/content/drive')"
      ],
      "metadata": {
        "colab": {
          "base_uri": "https://localhost:8080/"
        },
        "id": "V4XEWPq5wyt7",
        "outputId": "f2057028-3e05-4ec5-9519-9a148e51a9ca"
      },
      "execution_count": null,
      "outputs": [
        {
          "output_type": "stream",
          "name": "stdout",
          "text": [
            "Mounted at /content/drive\n"
          ]
        }
      ]
    },
    {
      "cell_type": "code",
      "source": [
        "X_dataset2 = pd.read_csv('/content/drive/MyDrive/University of Greenwich/Applied Machine Learning/comp1804_coursework_dataset_23-24.csv')"
      ],
      "metadata": {
        "id": "WKp4IlfUw07L"
      },
      "execution_count": null,
      "outputs": []
    },
    {
      "cell_type": "code",
      "source": [
        "print(\"Columns:\")\n",
        "for column in X_dataset2.columns:\n",
        "    print(column)"
      ],
      "metadata": {
        "colab": {
          "base_uri": "https://localhost:8080/"
        },
        "id": "obTVZEZrxAdw",
        "outputId": "3e646eef-11ad-4e5c-b276-c068886abe59"
      },
      "execution_count": null,
      "outputs": [
        {
          "output_type": "stream",
          "name": "stdout",
          "text": [
            "Columns:\n",
            "par_id\n",
            "paragraph\n",
            "has_entity\n",
            "lexicon_count\n",
            "difficult_words\n",
            "last_editor_gender\n",
            "category\n",
            "text_clarity\n"
          ]
        }
      ]
    },
    {
      "cell_type": "markdown",
      "source": [
        "# **1. Data preprocessing**"
      ],
      "metadata": {
        "id": "XbfPR06D_h92"
      }
    },
    {
      "cell_type": "markdown",
      "source": [
        "## **Dropping the duplicates**"
      ],
      "metadata": {
        "id": "e6l4uIW__70d"
      }
    },
    {
      "cell_type": "markdown",
      "source": [
        "### **par_id column**"
      ],
      "metadata": {
        "id": "30SmlaSiAW32"
      }
    },
    {
      "cell_type": "code",
      "source": [
        "num_duplicates_par_id = X_dataset2.duplicated(subset=['par_id']).sum()\n",
        "\n",
        "# Drop duplicates in the 'par_id' column\n",
        "X_dataset2.drop_duplicates(subset=['par_id'], inplace=True)\n",
        "\n",
        "# Calculate the total number of duplicates in the 'par_id' column\n",
        "num_duplicates_par_id = X_dataset2.duplicated(subset=['par_id']).sum()\n",
        "\n",
        "# Print the total number of duplicates in the 'par_id' column\n",
        "print(f\"Total number of duplicates in 'par_id' column after dropping duplicates: {num_duplicates_par_id}\")"
      ],
      "metadata": {
        "colab": {
          "base_uri": "https://localhost:8080/"
        },
        "id": "VqQ8FT2W_o7j",
        "outputId": "61802939-ddc6-4f8a-f639-fdf33821af42"
      },
      "execution_count": null,
      "outputs": [
        {
          "output_type": "stream",
          "name": "stdout",
          "text": [
            "Total number of duplicates in 'par_id' column after dropping duplicates: 0\n"
          ]
        }
      ]
    },
    {
      "cell_type": "markdown",
      "source": [
        "### **paragraph column**"
      ],
      "metadata": {
        "id": "VyZ9vw0eAb-s"
      }
    },
    {
      "cell_type": "code",
      "source": [
        "duplicates_paragraph = X_dataset2[X_dataset2.duplicated(subset=['paragraph'], keep=False)]\n",
        "\n",
        "# Drop duplicates based on the 'paragraph' column\n",
        "X_dataset2.drop_duplicates(subset=['paragraph'], keep=False, inplace=True)\n",
        "\n",
        "# Count the total number of duplicates after dropping\n",
        "num_duplicates_after = X_dataset2.duplicated(subset=['paragraph'], keep=False).sum()\n",
        "print(f\"Total number of duplicates in 'paragraph' after dropping: {num_duplicates_after}\")"
      ],
      "metadata": {
        "colab": {
          "base_uri": "https://localhost:8080/"
        },
        "id": "jd6GXDPEAgmS",
        "outputId": "38301055-c123-4728-c8b1-8cea53bcdeed"
      },
      "execution_count": null,
      "outputs": [
        {
          "output_type": "stream",
          "name": "stdout",
          "text": [
            "Total number of duplicates in 'paragraph' after dropping: 0\n"
          ]
        }
      ]
    },
    {
      "cell_type": "markdown",
      "source": [
        "## **Dropping missing values in dataframe**"
      ],
      "metadata": {
        "id": "ocbb8U5sC_VQ"
      }
    },
    {
      "cell_type": "code",
      "source": [
        "X_dataset_missing_data = X_dataset2[X_dataset2['has_entity'] == 'data missing']\n",
        "\n",
        "# Count the number of rows with 'data missing' in the 'has_entity' column\n",
        "num_data_missing = len(X_dataset_missing_data)\n",
        "\n",
        "X_dataset2.drop(X_dataset2[X_dataset2['has_entity'] == 'data missing'].index, inplace=True)\n",
        "\n",
        "# Count the number of rows with 'data missing' in the 'has_entity' column after dropping\n",
        "num_data_missing_after = (X_dataset2['has_entity'] == 'data missing').sum()\n",
        "print(f\"Total number of 'data missing' values in 'has_entity' after dropping: {num_data_missing_after}\")"
      ],
      "metadata": {
        "colab": {
          "base_uri": "https://localhost:8080/"
        },
        "id": "c3tHoAKCDH07",
        "outputId": "fee81988-831a-4933-fe84-5d08b4be350c"
      },
      "execution_count": null,
      "outputs": [
        {
          "output_type": "stream",
          "name": "stdout",
          "text": [
            "Total number of 'data missing' values in 'has_entity' after dropping: 0\n"
          ]
        }
      ]
    },
    {
      "cell_type": "code",
      "source": [
        "# Count the number of missing values in the 'difficult_words' column\n",
        "num_missing_difficult_words = X_dataset2['difficult_words'].isna().sum()\n",
        "\n",
        "# Remove rows with missing values only from the 'difficult_words' column\n",
        "X_dataset2.dropna(subset=['difficult_words'], inplace=True)\n",
        "\n",
        "# Print the shape of the DataFrame after removing missing data from the 'difficult_words' column\n",
        "print(\"Shape of DataFrame after removing missing data from 'difficult_words' column:\", X_dataset2.shape)"
      ],
      "metadata": {
        "colab": {
          "base_uri": "https://localhost:8080/"
        },
        "id": "MnMJGLqwDc1B",
        "outputId": "366603de-1ecd-4f14-c589-060a4f341c6d"
      },
      "execution_count": null,
      "outputs": [
        {
          "output_type": "stream",
          "name": "stdout",
          "text": [
            "Shape of DataFrame after removing missing data from 'difficult_words' column: (8850, 8)\n"
          ]
        }
      ]
    },
    {
      "cell_type": "code",
      "source": [
        "# Convert values in the 'category' column to lowercase\n",
        "X_dataset2['category'] = X_dataset2['category'].str.lower()\n",
        "\n",
        "# Print unique items in the 'category' column after conversion\n",
        "print(\"Unique items in the 'category' column after converting to lowercase:\")\n",
        "print(X_dataset2['category'].unique())"
      ],
      "metadata": {
        "colab": {
          "base_uri": "https://localhost:8080/"
        },
        "id": "jI5qfbQfDpgV",
        "outputId": "929e1bb0-b63e-4b7f-b13c-a76af50514d2"
      },
      "execution_count": null,
      "outputs": [
        {
          "output_type": "stream",
          "name": "stdout",
          "text": [
            "Unique items in the 'category' column after converting to lowercase:\n",
            "['biographies' 'artificial intelligence' 'programming' 'philosophy'\n",
            " 'movies about artificial intelligence']\n"
          ]
        }
      ]
    },
    {
      "cell_type": "markdown",
      "source": [
        "## **Mode Imputation: Fill missing values with the most frequent label (mode) in the \"text_clarity\" column.**"
      ],
      "metadata": {
        "id": "D_ZjGQRPChDB"
      }
    },
    {
      "cell_type": "code",
      "source": [
        "# Fill missing values with the mode\n",
        "X_dataset2['text_clarity'].fillna(X_dataset2['text_clarity'].mode()[0], inplace=True)"
      ],
      "metadata": {
        "id": "bELKA6xmClj1"
      },
      "execution_count": null,
      "outputs": []
    },
    {
      "cell_type": "markdown",
      "source": [
        "## **Oversampling technique**"
      ],
      "metadata": {
        "id": "2LAvdORNFtCC"
      }
    },
    {
      "cell_type": "code",
      "source": [
        "from imblearn.over_sampling import RandomOverSampler\n",
        "\n",
        "# Extract features (X) and labels (y)\n",
        "X = X_dataset2.drop('text_clarity', axis=1)  # Assuming X_dataset contains features other than 'text_clarity'\n",
        "y = X_dataset2['text_clarity']\n",
        "\n",
        "# Create RandomOverSampler object\n",
        "oversampler = RandomOverSampler(random_state=42)\n",
        "\n",
        "# Resample the dataset\n",
        "X_resampled, y_resampled = oversampler.fit_resample(X, y)\n",
        "\n",
        "# Check class distribution after oversampling\n",
        "print(pd.Series(y_resampled).value_counts())"
      ],
      "metadata": {
        "colab": {
          "base_uri": "https://localhost:8080/"
        },
        "id": "dJXBkB7PFzXe",
        "outputId": "c80b4d88-60b3-4466-b58a-e5024ed9c593"
      },
      "execution_count": null,
      "outputs": [
        {
          "output_type": "stream",
          "name": "stdout",
          "text": [
            "clear_enough        8846\n",
            "not_clear_enough    8846\n",
            "Name: text_clarity, dtype: int64\n"
          ]
        }
      ]
    },
    {
      "cell_type": "code",
      "source": [
        "# Replace X_dataset with resampled data\n",
        "X_dataset2 = pd.concat([X_resampled, y_resampled], axis=1)\n",
        "\n",
        "# Check the updated class distribution\n",
        "print(X_dataset2['text_clarity'].value_counts())"
      ],
      "metadata": {
        "colab": {
          "base_uri": "https://localhost:8080/"
        },
        "id": "VnLUekAHGWJ9",
        "outputId": "07fa3a1f-9267-42d7-ee0d-eedc30f24d0f"
      },
      "execution_count": null,
      "outputs": [
        {
          "output_type": "stream",
          "name": "stdout",
          "text": [
            "clear_enough        8846\n",
            "not_clear_enough    8846\n",
            "Name: text_clarity, dtype: int64\n"
          ]
        }
      ]
    },
    {
      "cell_type": "markdown",
      "source": [
        "## **Creating the two dataframes**"
      ],
      "metadata": {
        "id": "TQRTB2TTA2Jf"
      }
    },
    {
      "cell_type": "code",
      "source": [
        "# DataFrame for paragraph text\n",
        "paragraph_df = X_dataset2[['par_id', 'paragraph']].copy()\n",
        "\n",
        "# DataFrame for text clarity labels\n",
        "text_clarity_df = X_dataset2[['par_id', 'text_clarity']].copy()\n",
        "\n",
        "# drop any rows with missing values in either dataframe\n",
        "paragraph_df.dropna(inplace=True)\n",
        "text_clarity_df.dropna(inplace=True)"
      ],
      "metadata": {
        "id": "pu1lTGmHA70U"
      },
      "execution_count": null,
      "outputs": []
    },
    {
      "cell_type": "markdown",
      "source": [
        "# **2. Text enconding and model building**"
      ],
      "metadata": {
        "id": "HrCO-i4LFFVq"
      }
    },
    {
      "cell_type": "code",
      "source": [
        "from sklearn.feature_extraction.text import TfidfVectorizer\n",
        "from sklearn.model_selection import train_test_split\n",
        "from sklearn.linear_model import LogisticRegression\n",
        "from sklearn.metrics import classification_report\n",
        "\n",
        "# Tokenization (assuming 'paragraph' contains text data)\n",
        "paragraphs = paragraph_df['paragraph'].tolist()\n",
        "\n",
        "# Vectorization (using TF-IDF)\n",
        "tfidf_vectorizer = TfidfVectorizer()\n",
        "X_tfidf = tfidf_vectorizer.fit_transform(paragraphs)\n",
        "\n",
        "# Extract labels from text_clarity_df\n",
        "y = text_clarity_df['text_clarity']\n",
        "\n",
        "# Train/Test Split\n",
        "X_train, X_test, y_train, y_test = train_test_split(X_tfidf, y, test_size=0.2, random_state=42)\n",
        "\n",
        "# Model Training\n",
        "model = LogisticRegression()\n",
        "model.fit(X_train, y_train)\n",
        "\n",
        "# Model Evaluation\n",
        "y_pred = model.predict(X_test)\n",
        "print(classification_report(y_test, y_pred))"
      ],
      "metadata": {
        "colab": {
          "base_uri": "https://localhost:8080/"
        },
        "id": "cRTPhNu_FNiC",
        "outputId": "02116431-00af-4d9e-82d0-265d2464c55b"
      },
      "execution_count": null,
      "outputs": [
        {
          "output_type": "stream",
          "name": "stdout",
          "text": [
            "                  precision    recall  f1-score   support\n",
            "\n",
            "    clear_enough       1.00      1.00      1.00      1735\n",
            "not_clear_enough       1.00      1.00      1.00      1804\n",
            "\n",
            "        accuracy                           1.00      3539\n",
            "       macro avg       1.00      1.00      1.00      3539\n",
            "    weighted avg       1.00      1.00      1.00      3539\n",
            "\n"
          ]
        }
      ]
    },
    {
      "cell_type": "markdown",
      "source": [
        "## **Hyperparameter values**"
      ],
      "metadata": {
        "id": "Hx852FY5pyiE"
      }
    },
    {
      "cell_type": "code",
      "source": [
        "from sklearn.model_selection import GridSearchCV\n",
        "\n",
        "param_grid = {\n",
        "    'C': [0.001, 0.01, 0.1, 1, 10, 100],  # Regularization parameter\n",
        "    'penalty': ['l1', 'l2'],  # Regularization penalty (L1 or L2)\n",
        "    'max_iter': [100, 200, 300],  # Maximum number of iterations\n",
        "    'solver': ['liblinear', 'saga']  # Solver algorithm (for 'l1' penalty)\n",
        "}\n",
        "grid_search = GridSearchCV(estimator=LogisticRegression(), param_grid=param_grid, cv=5, n_jobs=-1)\n",
        "\n",
        "# Perform grid search to find the best hyperparameters\n",
        "grid_search.fit(X_train, y_train)\n",
        "\n",
        "# Print the best hyperparameters found\n",
        "print(\"Best hyperparameters:\", grid_search.best_params_)"
      ],
      "metadata": {
        "colab": {
          "base_uri": "https://localhost:8080/"
        },
        "id": "S3aRVZmKI_pG",
        "outputId": "06e403d0-4ae8-420a-e40d-284c1646b8d7"
      },
      "execution_count": null,
      "outputs": [
        {
          "output_type": "stream",
          "name": "stdout",
          "text": [
            "Best hyperparameters: {'C': 0.001, 'max_iter': 100, 'penalty': 'l2', 'solver': 'liblinear'}\n"
          ]
        }
      ]
    },
    {
      "cell_type": "markdown",
      "source": [
        "## **Baseline vs Model**"
      ],
      "metadata": {
        "id": "FgFGuOUwpqZy"
      }
    },
    {
      "cell_type": "code",
      "source": [
        "from sklearn.metrics import confusion_matrix, classification_report, accuracy_score\n",
        "\n",
        "# Make predictions on the test set\n",
        "y_pred = model.predict(X_test)\n",
        "\n",
        "# Confusion Matrix\n",
        "conf_matrix = confusion_matrix(y_test, y_pred)\n",
        "print(\"Confusion Matrix:\")\n",
        "print(conf_matrix)\n",
        "\n",
        "# Classification Report\n",
        "print(\"\\nClassification Report:\")\n",
        "print(classification_report(y_test, y_pred))\n",
        "\n",
        "# Accuracy\n",
        "accuracy = accuracy_score(y_test, y_pred)\n",
        "print(\"\\nAccuracy:\", accuracy)\n",
        "\n",
        "# Comparison with Majority Class Baseline\n",
        "majority_class_baseline = len(y_test[y_test == 'clear_enough']) / len(y_test)\n",
        "print(\"\\nMajority Class Baseline Accuracy:\", majority_class_baseline)\n",
        "\n",
        "# Additional Metrics (if applicable)\n",
        "# ROC Curve and AUC, etc.\n"
      ],
      "metadata": {
        "colab": {
          "base_uri": "https://localhost:8080/"
        },
        "id": "xj3uEVILMKiN",
        "outputId": "2e4573da-8d7d-434a-96aa-0a943e9df41b"
      },
      "execution_count": null,
      "outputs": [
        {
          "output_type": "stream",
          "name": "stdout",
          "text": [
            "Confusion Matrix:\n",
            "[[1735    0]\n",
            " [   0 1804]]\n",
            "\n",
            "Classification Report:\n",
            "                  precision    recall  f1-score   support\n",
            "\n",
            "    clear_enough       1.00      1.00      1.00      1735\n",
            "not_clear_enough       1.00      1.00      1.00      1804\n",
            "\n",
            "        accuracy                           1.00      3539\n",
            "       macro avg       1.00      1.00      1.00      3539\n",
            "    weighted avg       1.00      1.00      1.00      3539\n",
            "\n",
            "\n",
            "Accuracy: 1.0\n",
            "\n",
            "Majority Class Baseline Accuracy: 0.49025148346990677\n"
          ]
        }
      ]
    },
    {
      "cell_type": "code",
      "source": [
        "from sklearn.metrics import classification_report\n",
        "\n",
        "# Majority class baseline predictions (all 'clear_enough')\n",
        "y_pred_baseline = ['clear_enough'] * len(y_test)\n",
        "\n",
        "# Generate classification report for the majority class baseline\n",
        "print(\"Classification Report for Majority Class Baseline:\\n\")\n",
        "print(classification_report(y_test, y_pred_baseline, target_names=['clear_enough', 'not_clear_enough']))"
      ],
      "metadata": {
        "colab": {
          "base_uri": "https://localhost:8080/"
        },
        "id": "enF5UhXdpbjb",
        "outputId": "d2858f34-024a-4774-d0d5-c0ee48530cfa"
      },
      "execution_count": null,
      "outputs": [
        {
          "output_type": "stream",
          "name": "stdout",
          "text": [
            "Classification Report for Majority Class Baseline:\n",
            "\n",
            "                  precision    recall  f1-score   support\n",
            "\n",
            "    clear_enough       0.49      1.00      0.66      1735\n",
            "not_clear_enough       0.00      0.00      0.00      1804\n",
            "\n",
            "        accuracy                           0.49      3539\n",
            "       macro avg       0.25      0.50      0.33      3539\n",
            "    weighted avg       0.24      0.49      0.32      3539\n",
            "\n"
          ]
        },
        {
          "output_type": "stream",
          "name": "stderr",
          "text": [
            "/usr/local/lib/python3.10/dist-packages/sklearn/metrics/_classification.py:1344: UndefinedMetricWarning: Precision and F-score are ill-defined and being set to 0.0 in labels with no predicted samples. Use `zero_division` parameter to control this behavior.\n",
            "  _warn_prf(average, modifier, msg_start, len(result))\n",
            "/usr/local/lib/python3.10/dist-packages/sklearn/metrics/_classification.py:1344: UndefinedMetricWarning: Precision and F-score are ill-defined and being set to 0.0 in labels with no predicted samples. Use `zero_division` parameter to control this behavior.\n",
            "  _warn_prf(average, modifier, msg_start, len(result))\n",
            "/usr/local/lib/python3.10/dist-packages/sklearn/metrics/_classification.py:1344: UndefinedMetricWarning: Precision and F-score are ill-defined and being set to 0.0 in labels with no predicted samples. Use `zero_division` parameter to control this behavior.\n",
            "  _warn_prf(average, modifier, msg_start, len(result))\n"
          ]
        }
      ]
    },
    {
      "cell_type": "markdown",
      "source": [
        "# **Creating new CSV file**"
      ],
      "metadata": {
        "id": "2Gjw7oF43INe"
      }
    },
    {
      "cell_type": "code",
      "source": [
        "import pandas as pd\n",
        "\n",
        "# Read the original dataset\n",
        "original_dataset = pd.read_csv('/content/drive/MyDrive/University of Greenwich/Applied Machine Learning/comp1804_coursework_dataset_23-24.csv')\n",
        "\n",
        "# Assuming you have performed modeling and obtained predicted labels stored in y_pred\n",
        "# Add predicted labels to the new labels DataFrame (text_clarity_df)\n",
        "text_clarity_df = pd.DataFrame({'text_clarity': y_pred})\n",
        "\n",
        "# Drop the old text clarity column from the original dataset\n",
        "original_dataset.drop('text_clarity', axis=1, inplace=True)\n",
        "\n",
        "# Merge the datasets based on a common identifier (e.g., paragraph ID)\n",
        "new_coursework_dataset = pd.merge(original_dataset, text_clarity_df, left_index=True, right_index=True)\n",
        "\n",
        "# Rename the predicted label column to 'text_clarity' in the merged dataset\n",
        "new_coursework_dataset.rename(columns={'text_clarity_x': 'text_clarity'}, inplace=True)\n",
        "\n",
        "# Save the merged dataset to a new CSV file\n",
        "new_coursework_dataset.to_csv('/content/drive/MyDrive/University of Greenwich/Applied Machine Learning/new_coursework_dataset.csv', index=False)\n",
        "\n",
        "# Save the merged dataset to a new Excel file\n",
        "new_coursework_dataset.to_excel('/content/drive/MyDrive/University of Greenwich/Applied Machine Learning/new_coursework_dataset.xlsx', index=False)"
      ],
      "metadata": {
        "id": "NiTNL3xn3PcP"
      },
      "execution_count": null,
      "outputs": []
    },
    {
      "cell_type": "markdown",
      "source": [
        "# **Labelling process printed.**"
      ],
      "metadata": {
        "id": "aSQZfSq8-o_-"
      }
    },
    {
      "cell_type": "code",
      "source": [
        "import pandas as pd\n",
        "import random\n",
        "\n",
        "# Load the dataset with the updated text clarity column\n",
        "coursework_dataset = pd.read_csv('/content/drive/MyDrive/University of Greenwich/Applied Machine Learning/new_coursework_dataset.csv')\n",
        "\n",
        "# Step 1: Generate Labels - Select a random subset of 100 paragraphs\n",
        "random.seed(42)  # Set random seed for reproducibility\n",
        "sample_size = 100\n",
        "random_sample = coursework_dataset.sample(n=sample_size)\n",
        "\n",
        "# Calculate the number of paragraphs labelled as 'clear_enough' and 'not_clear_enough' in the random sample\n",
        "clear_enough_count = random_sample['text_clarity'].value_counts().get('clear_enough', 0)\n",
        "not_clear_enough_count = random_sample['text_clarity'].value_counts().get('not_clear_enough', 0)\n",
        "\n",
        "# Display label statistics for the random sample\n",
        "print(\"Label Statistics for Random Sample:\")\n",
        "print(f\"Total Paragraphs in Random Sample: {sample_size}\")\n",
        "print(f\"Number of 'Clear Enough' Paragraphs: {clear_enough_count}\")\n",
        "print(f\"Number of 'Not Clear Enough' Paragraphs: {not_clear_enough_count}\")\n"
      ],
      "metadata": {
        "colab": {
          "base_uri": "https://localhost:8080/"
        },
        "id": "aGjYHPOO-np8",
        "outputId": "c4882959-009d-4b5a-f585-cdfe1edea67c"
      },
      "execution_count": null,
      "outputs": [
        {
          "output_type": "stream",
          "name": "stdout",
          "text": [
            "Label Statistics for Random Sample:\n",
            "Total Paragraphs in Random Sample: 100\n",
            "Number of 'Clear Enough' Paragraphs: 44\n",
            "Number of 'Not Clear Enough' Paragraphs: 56\n"
          ]
        }
      ]
    },
    {
      "cell_type": "code",
      "source": [
        "import random\n",
        "\n",
        "# Select one example of paragraph text from each category\n",
        "clear_enough_example = random_sample[random_sample['text_clarity'] == 'clear_enough'].iloc[0]['paragraph']\n",
        "not_clear_enough_example = random_sample[random_sample['text_clarity'] == 'not_clear_enough'].iloc[0]['paragraph']\n",
        "\n",
        "# Define the certainty levels for the examples\n",
        "clear_enough_certainty = 'high'  # You can adjust the certainty level as needed\n",
        "not_clear_enough_certainty = 'medium'  # You can adjust the certainty level as needed\n",
        "\n",
        "# Print the examples with their certainty levels\n",
        "print(\"Examples of Labelled Paragraphs:\")\n",
        "print(\"1. Clear Enough:\")\n",
        "print(f\"Paragraph: \\\"{clear_enough_example}\\\"\")\n",
        "print(f\"Level of certainty: {clear_enough_certainty}\\n\")\n",
        "\n",
        "print(\"2. Not Clear Enough:\")\n",
        "print(f\"Paragraph: \\\"{not_clear_enough_example}\\\"\")\n",
        "print(f\"Level of certainty: {not_clear_enough_certainty}\")"
      ],
      "metadata": {
        "colab": {
          "base_uri": "https://localhost:8080/"
        },
        "id": "jqRttYYb_jOR",
        "outputId": "2d3d4ef9-4fbf-489d-c665-67179f8efbe5"
      },
      "execution_count": null,
      "outputs": [
        {
          "output_type": "stream",
          "name": "stdout",
          "text": [
            "Examples of Labelled Paragraphs:\n",
            "1. Clear Enough:\n",
            "Paragraph: \"To designate which application is meant to be the target of such a message, AppleScript uses a \"tell\" construct:\"\n",
            "Level of certainty: high\n",
            "\n",
            "2. Not Clear Enough:\n",
            "Paragraph: \" A bronze memorial was sculpted by Alfred Stevens, and features two intricate supports: \"Truth tearing the tongue out of the mouth of False-hood\", and \"Valour trampling Cowardice underfoot\". Stevens did not live to see it placed in its home under one of the arches of the cathedral.Wellington's casket was decorated with banners which were made for his funeral procession. Originally, there was one from Prussia, which was removed during World War I and never reinstated. In the procession, the \"Great Banner\" was carried by General Sir James Charles Chatterton of the 4th Dragoon Guards on the orders of Queen Victoria.Most of the book A Biographical Sketch of the Military and Political Career of the Late Duke of Wellington by Weymouth newspaper proprietor Joseph Drew is a detailed contemporary account of his death, lying in state and funeral.After his death, Irish and English newspapers disputed whether Wellington had been born an Irishman or an Englishman. In 2002, he was number 15 in the BBC's poll of the 100 Greatest Britons.Owing to its links with Wellington, as the former commanding officer and colonel of the regiment, the title \"33rd  Regiment\" was granted to the 33rd Regiment of Foot, on 18 June 1853  by Queen Victoria. Wellington's battle record is exemplary; he participated in some 60 battles during the course of his military career.\"\n",
            "Level of certainty: medium\n"
          ]
        }
      ]
    }
  ]
}